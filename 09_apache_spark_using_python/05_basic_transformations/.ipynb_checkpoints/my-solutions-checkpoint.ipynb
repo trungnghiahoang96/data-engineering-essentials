{
 "cells": [
  {
   "cell_type": "code",
   "execution_count": null,
   "id": "4f20a33b",
   "metadata": {},
   "outputs": [
    {
     "name": "stderr",
     "output_type": "stream",
     "text": [
      "Using Spark's default log4j profile: org/apache/spark/log4j-defaults.properties\n",
      "Setting default log level to \"WARN\".\n",
      "To adjust logging level use sc.setLogLevel(newLevel). For SparkR, use setLogLevel(newLevel).\n"
     ]
    }
   ],
   "source": [
    "from pyspark.sql import SparkSession, DataFrame, Window\n",
    "import pyspark.sql.functions as F\n",
    "\n",
    "import getpass\n",
    "username = getpass.getuser()\n",
    "\n",
    "username\n",
    "\n",
    "spark = SparkSession. \\\n",
    "    builder. \\\n",
    "    config('spark.ui.port', '3333'). \\\n",
    "    config(\"spark.sql.warehouse.dir\", \"/user/hive/warehouse\"). \\\n",
    "    config(\"spark.sql.debug.maxToStringFields\", 1000). \\\n",
    "    config(\"spark.dynamicAllocation.enabled\", \"false\"). \\\n",
    "    enableHiveSupport(). \\\n",
    "    appName(f'{username} | Python - Data Processing - Overview'). \\\n",
    "    master('yarn'). \\\n",
    "    getOrCreate()"
   ]
  },
  {
   "cell_type": "code",
   "execution_count": null,
   "id": "0373abb1",
   "metadata": {},
   "outputs": [],
   "source": [
    "\n"
   ]
  },
  {
   "cell_type": "code",
   "execution_count": null,
   "id": "55a505ea",
   "metadata": {},
   "outputs": [],
   "source": []
  },
  {
   "cell_type": "markdown",
   "id": "da338958",
   "metadata": {},
   "source": [
    "* Get total number of flights as well as number of flights which are delayed in departure and number of flights delayed in arrival. \n",
    "  * Output should contain 3 columns - **FlightCount**, **DepDelayedCount**, **ArrDelayedCount**"
   ]
  },
  {
   "cell_type": "code",
   "execution_count": null,
   "id": "93e0d899",
   "metadata": {},
   "outputs": [],
   "source": [
    "airtraffic_path = '/home/nghiaht7/data-engineer/data-engineering-essentials/data/airflights_delay'"
   ]
  },
  {
   "cell_type": "code",
   "execution_count": null,
   "id": "7363842f",
   "metadata": {},
   "outputs": [],
   "source": [
    "airtraffic = spark.read.format(\"csv\"). \\\n",
    "            option(\"header\", \"true\"). \\\n",
    "            option(\"inferSchema\", \"true\"). \\\n",
    "            load(airtraffic_path)"
   ]
  },
  {
   "cell_type": "code",
   "execution_count": null,
   "id": "cfff3289",
   "metadata": {},
   "outputs": [],
   "source": [
    "# need to ocunt condition ?\n",
    "\n",
    "airtraffic.select(F.count(\"*\").alias(\"FlightCount\"),\n",
    "                  F.count(F.when(col(\"IsDepDelayed\") == \"YES\", True)).alias(\" DepDelayedCount\"),\n",
    "                  F.count(F.when(col(\"IsArrDelayed\") == \"YES\", True)).alias(\"ArrDelayedCount\")\n",
    "\n",
    ").show()"
   ]
  },
  {
   "cell_type": "markdown",
   "id": "2415edfa",
   "metadata": {},
   "source": [
    "* Get number of flights which are delayed in departure and number of flights delayed in arrival for each day along with number of flights departed for each day. \n",
    "  * Output should contain 4 columns - **FlightDate**, **FlightCount**, **DepDelayedCount**, **ArrDelayedCount**\n",
    "  * **FlightDate** should be of **yyyy-MM-dd** format.\n",
    "  * Data should be **sorted** in ascending order by **flightDate**"
   ]
  },
  {
   "cell_type": "code",
   "execution_count": null,
   "id": "e06bee29",
   "metadata": {},
   "outputs": [],
   "source": [
    "airtraffic.withColumn('FlightDate', \n",
    "    F.to_date(F.concat(\n",
    "        F.col(\"Year\"),\n",
    "        F.lpad(F.col(\"Month\"), 2, \"0\"),\n",
    "        F.lpad(F.col(\"DayOfMonth\"), 2, \"0\")\n",
    "    ), \"yyyy-MM-dd\")\n",
    ").groupby(\"FlightDate\"). \\\n",
    "   agg(F.count(\"*\").alias(\"FlightCount\"),\n",
    "       F.count(F.when(col(\"IsDepDelayed\") == \"YES\", True)).alias(\" DepDelayedCount\"),\n",
    "    F.count(F.when(col(\"IsArrDelayed\") == \"YES\", True)).alias(\"ArrDelayedCount\")\n",
    "       ).show()"
   ]
  }
 ],
 "metadata": {
  "kernelspec": {
   "display_name": "Python 3 (ipykernel)",
   "language": "python",
   "name": "python3"
  },
  "language_info": {
   "codemirror_mode": {
    "name": "ipython",
    "version": 3
   },
   "file_extension": ".py",
   "mimetype": "text/x-python",
   "name": "python",
   "nbconvert_exporter": "python",
   "pygments_lexer": "ipython3",
   "version": "3.8.10"
  }
 },
 "nbformat": 4,
 "nbformat_minor": 5
}
