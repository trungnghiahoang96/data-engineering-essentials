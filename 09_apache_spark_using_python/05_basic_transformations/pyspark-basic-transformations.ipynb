{
 "cells": [
  {
   "cell_type": "code",
   "execution_count": 1,
   "id": "cdc4e2bc",
   "metadata": {},
   "outputs": [
    {
     "name": "stderr",
     "output_type": "stream",
     "text": [
      "Version 1.0.2\n"
     ]
    }
   ],
   "source": [
    "%load_ext nb_mypy\n",
    "%nb_mypy On"
   ]
  },
  {
   "cell_type": "code",
   "execution_count": 2,
   "id": "75dd3c68",
   "metadata": {},
   "outputs": [],
   "source": [
    "from typing import Union, List, Tuple, Optional, TypeVar, Any"
   ]
  },
  {
   "cell_type": "code",
   "execution_count": 3,
   "id": "018350a4",
   "metadata": {},
   "outputs": [],
   "source": [
    "from pyspark.sql import SparkSession, DataFrame, Window\n",
    "import pyspark.sql.functions as F\n",
    "import pandas as pd\n"
   ]
  },
  {
   "cell_type": "code",
   "execution_count": null,
   "id": "022a996e",
   "metadata": {},
   "outputs": [],
   "source": [
    "\n",
    "\n"
   ]
  },
  {
   "cell_type": "code",
   "execution_count": null,
   "id": "3caa185a",
   "metadata": {},
   "outputs": [],
   "source": []
  },
  {
   "cell_type": "markdown",
   "id": "c656d413",
   "metadata": {},
   "source": [
    "**Code for adding 2 columns (IsArrDelayed, IsDepDelayed) to create new dataset for practice**\n",
    "\n",
    "\n",
    "ArrDelay arrival delay, in minutes: A flight is counted as \"on time\" if it operated less than 15 minutes later the \n",
    "\n",
    "scheduled time shown in the carriers' Computerized Reservations Systems (CRS).\n",
    "\n"
   ]
  },
  {
   "cell_type": "code",
   "execution_count": null,
   "id": "408b8a3c",
   "metadata": {},
   "outputs": [],
   "source": [
    "\n",
    "# airtraffic. \\\n",
    "# select('ArrTime', 'CRSArrTime','ArrDelay', 'DepTime', 'CRSDepTime', 'DepDelay').limit(10).toPandas()\n",
    "\n",
    "# from pyspark.sql.types import IntegerType\n",
    "\n",
    "# airtraffic = airtraffic.withColumn('ArrDelay', col('ArrDelay').cast(IntegerType())) \\\n",
    "#                         .withColumn('DepDelay', col('DepDelay').cast(IntegerType()))\n",
    "\n",
    "\n",
    "# airtraffic = airtraffic.withColumn(\"IsArrDelayed\", when(col(\"ArrDelay\") >= 15, \"YES\").otherwise(\"NO\")) \\\n",
    "#                         .withColumn(\"IsDepDelayed\", when(col(\"DepDelay\") >= 15, \"YES\").otherwise(\"NO\"))\n",
    "\n",
    "\n",
    "# airtraffic.write.format('csv'). \\\n",
    "# option('header',True).mode('overwrite'). \\\n",
    "# option('sep',','). \\\n",
    "# save('/home/nghiaht7/data-engineer/data-engineering-essentials/data/airflights_delay')"
   ]
  },
  {
   "cell_type": "code",
   "execution_count": 8,
   "id": "8dc96ab3",
   "metadata": {},
   "outputs": [],
   "source": [
    "import getpass\n",
    "username = getpass.getuser()\n",
    "\n",
    "username\n",
    "\n",
    "spark = SparkSession. \\\n",
    "    builder. \\\n",
    "    config('spark.ui.port', '4000'). \\\n",
    "    config(\"spark.sql.warehouse.dir\", \"hdfs://0.0.0.0:9000/user/hive/warehouse/\"). \\\n",
    "    config(\"spark.sql.debug.maxToStringFields\", 1000). \\\n",
    "    config(\"spark.dynamicAllocation.enabled\", \"false\"). \\\n",
    "    enableHiveSupport(). \\\n",
    "    appName(f'{username} | Python - Data Processing - Overview'). \\\n",
    "    master('yarn'). \\\n",
    "    getOrCreate()"
   ]
  },
  {
   "cell_type": "code",
   "execution_count": 5,
   "id": "15be6faa",
   "metadata": {},
   "outputs": [],
   "source": [
    "# example for getting files from hdfs\n",
    "\n",
    "# !hdfs dfs -put /home/nghiaht7/data-engineer/data-engineering-essentials/data/flights.csv /user/nghiaht7\n",
    "\n",
    "# !hdfs dfs -ls -R /user/nghiaht7 | grep csv\n",
    "\n",
    "# airtraffic_path = \"hdfs://0.0.0.0:9000/user/nghiaht7/flights.csv\""
   ]
  },
  {
   "cell_type": "code",
   "execution_count": null,
   "id": "8dcf2f85",
   "metadata": {},
   "outputs": [],
   "source": []
  },
  {
   "cell_type": "code",
   "execution_count": 6,
   "id": "227a9830",
   "metadata": {},
   "outputs": [],
   "source": [
    "airtraffic_path = '/home/nghiaht7/data-engineer/data-engineering-essentials/data/airflights_delay'"
   ]
  },
  {
   "cell_type": "code",
   "execution_count": 9,
   "id": "2ee2c20c",
   "metadata": {},
   "outputs": [
    {
     "name": "stderr",
     "output_type": "stream",
     "text": [
      "                                                                                \r"
     ]
    }
   ],
   "source": [
    "airtraffic = spark.read.format(\"csv\"). \\\n",
    "            option(\"header\", \"true\"). \\\n",
    "            option(\"inferSchema\", \"true\"). \\\n",
    "            load(airtraffic_path)"
   ]
  },
  {
   "cell_type": "code",
   "execution_count": 10,
   "id": "916a4649",
   "metadata": {},
   "outputs": [
    {
     "name": "stdout",
     "output_type": "stream",
     "text": [
      "root\n",
      " |-- Year: integer (nullable = true)\n",
      " |-- Month: integer (nullable = true)\n",
      " |-- DayofMonth: integer (nullable = true)\n",
      " |-- DayOfWeek: integer (nullable = true)\n",
      " |-- DepTime: string (nullable = true)\n",
      " |-- CRSDepTime: integer (nullable = true)\n",
      " |-- ArrTime: string (nullable = true)\n",
      " |-- CRSArrTime: integer (nullable = true)\n",
      " |-- UniqueCarrier: string (nullable = true)\n",
      " |-- FlightNum: integer (nullable = true)\n",
      " |-- TailNum: string (nullable = true)\n",
      " |-- ActualElapsedTime: string (nullable = true)\n",
      " |-- CRSElapsedTime: integer (nullable = true)\n",
      " |-- AirTime: string (nullable = true)\n",
      " |-- ArrDelay: integer (nullable = true)\n",
      " |-- DepDelay: integer (nullable = true)\n",
      " |-- Origin: string (nullable = true)\n",
      " |-- Dest: string (nullable = true)\n",
      " |-- Distance: integer (nullable = true)\n",
      " |-- TaxiIn: string (nullable = true)\n",
      " |-- TaxiOut: string (nullable = true)\n",
      " |-- Cancelled: integer (nullable = true)\n",
      " |-- CancellationCode: string (nullable = true)\n",
      " |-- Diverted: integer (nullable = true)\n",
      " |-- CarrierDelay: string (nullable = true)\n",
      " |-- WeatherDelay: string (nullable = true)\n",
      " |-- NASDelay: string (nullable = true)\n",
      " |-- SecurityDelay: string (nullable = true)\n",
      " |-- LateAircraftDelay: string (nullable = true)\n",
      " |-- IsArrDelayed: string (nullable = true)\n",
      " |-- IsDepDelayed: string (nullable = true)\n",
      "\n"
     ]
    }
   ],
   "source": [
    "airtraffic.printSchema()"
   ]
  },
  {
   "cell_type": "code",
   "execution_count": 13,
   "id": "9dec356f",
   "metadata": {},
   "outputs": [
    {
     "name": "stderr",
     "output_type": "stream",
     "text": [
      "                                                                                \r"
     ]
    },
    {
     "data": {
      "text/plain": [
       "99999"
      ]
     },
     "execution_count": 13,
     "metadata": {},
     "output_type": "execute_result"
    }
   ],
   "source": [
    "airtraffic.count()"
   ]
  },
  {
   "cell_type": "code",
   "execution_count": 17,
   "id": "fa4273ff",
   "metadata": {},
   "outputs": [],
   "source": []
  },
  {
   "cell_type": "code",
   "execution_count": 15,
   "id": "25f3a7db",
   "metadata": {},
   "outputs": [
    {
     "data": {
      "text/html": [
       "<div>\n",
       "<style scoped>\n",
       "    .dataframe tbody tr th:only-of-type {\n",
       "        vertical-align: middle;\n",
       "    }\n",
       "\n",
       "    .dataframe tbody tr th {\n",
       "        vertical-align: top;\n",
       "    }\n",
       "\n",
       "    .dataframe thead th {\n",
       "        text-align: right;\n",
       "    }\n",
       "</style>\n",
       "<table border=\"1\" class=\"dataframe\">\n",
       "  <thead>\n",
       "    <tr style=\"text-align: right;\">\n",
       "      <th></th>\n",
       "      <th>Year</th>\n",
       "      <th>Month</th>\n",
       "      <th>DayofMonth</th>\n",
       "      <th>DayOfWeek</th>\n",
       "      <th>DepTime</th>\n",
       "      <th>CRSDepTime</th>\n",
       "      <th>ArrTime</th>\n",
       "      <th>CRSArrTime</th>\n",
       "      <th>UniqueCarrier</th>\n",
       "      <th>FlightNum</th>\n",
       "      <th>...</th>\n",
       "      <th>Cancelled</th>\n",
       "      <th>CancellationCode</th>\n",
       "      <th>Diverted</th>\n",
       "      <th>CarrierDelay</th>\n",
       "      <th>WeatherDelay</th>\n",
       "      <th>NASDelay</th>\n",
       "      <th>SecurityDelay</th>\n",
       "      <th>LateAircraftDelay</th>\n",
       "      <th>IsArrDelayed</th>\n",
       "      <th>IsDepDelayed</th>\n",
       "    </tr>\n",
       "  </thead>\n",
       "  <tbody>\n",
       "    <tr>\n",
       "      <th>0</th>\n",
       "      <td>2008</td>\n",
       "      <td>1</td>\n",
       "      <td>3</td>\n",
       "      <td>4</td>\n",
       "      <td>2003</td>\n",
       "      <td>1955</td>\n",
       "      <td>2211</td>\n",
       "      <td>2225</td>\n",
       "      <td>WN</td>\n",
       "      <td>335</td>\n",
       "      <td>...</td>\n",
       "      <td>0</td>\n",
       "      <td>None</td>\n",
       "      <td>0</td>\n",
       "      <td>NA</td>\n",
       "      <td>NA</td>\n",
       "      <td>NA</td>\n",
       "      <td>NA</td>\n",
       "      <td>NA</td>\n",
       "      <td>NO</td>\n",
       "      <td>NO</td>\n",
       "    </tr>\n",
       "    <tr>\n",
       "      <th>1</th>\n",
       "      <td>2008</td>\n",
       "      <td>1</td>\n",
       "      <td>3</td>\n",
       "      <td>4</td>\n",
       "      <td>754</td>\n",
       "      <td>735</td>\n",
       "      <td>1002</td>\n",
       "      <td>1000</td>\n",
       "      <td>WN</td>\n",
       "      <td>3231</td>\n",
       "      <td>...</td>\n",
       "      <td>0</td>\n",
       "      <td>None</td>\n",
       "      <td>0</td>\n",
       "      <td>NA</td>\n",
       "      <td>NA</td>\n",
       "      <td>NA</td>\n",
       "      <td>NA</td>\n",
       "      <td>NA</td>\n",
       "      <td>NO</td>\n",
       "      <td>YES</td>\n",
       "    </tr>\n",
       "    <tr>\n",
       "      <th>2</th>\n",
       "      <td>2008</td>\n",
       "      <td>1</td>\n",
       "      <td>3</td>\n",
       "      <td>4</td>\n",
       "      <td>628</td>\n",
       "      <td>620</td>\n",
       "      <td>804</td>\n",
       "      <td>750</td>\n",
       "      <td>WN</td>\n",
       "      <td>448</td>\n",
       "      <td>...</td>\n",
       "      <td>0</td>\n",
       "      <td>None</td>\n",
       "      <td>0</td>\n",
       "      <td>NA</td>\n",
       "      <td>NA</td>\n",
       "      <td>NA</td>\n",
       "      <td>NA</td>\n",
       "      <td>NA</td>\n",
       "      <td>NO</td>\n",
       "      <td>NO</td>\n",
       "    </tr>\n",
       "    <tr>\n",
       "      <th>3</th>\n",
       "      <td>2008</td>\n",
       "      <td>1</td>\n",
       "      <td>3</td>\n",
       "      <td>4</td>\n",
       "      <td>926</td>\n",
       "      <td>930</td>\n",
       "      <td>1054</td>\n",
       "      <td>1100</td>\n",
       "      <td>WN</td>\n",
       "      <td>1746</td>\n",
       "      <td>...</td>\n",
       "      <td>0</td>\n",
       "      <td>None</td>\n",
       "      <td>0</td>\n",
       "      <td>NA</td>\n",
       "      <td>NA</td>\n",
       "      <td>NA</td>\n",
       "      <td>NA</td>\n",
       "      <td>NA</td>\n",
       "      <td>NO</td>\n",
       "      <td>NO</td>\n",
       "    </tr>\n",
       "    <tr>\n",
       "      <th>4</th>\n",
       "      <td>2008</td>\n",
       "      <td>1</td>\n",
       "      <td>3</td>\n",
       "      <td>4</td>\n",
       "      <td>1829</td>\n",
       "      <td>1755</td>\n",
       "      <td>1959</td>\n",
       "      <td>1925</td>\n",
       "      <td>WN</td>\n",
       "      <td>3920</td>\n",
       "      <td>...</td>\n",
       "      <td>0</td>\n",
       "      <td>None</td>\n",
       "      <td>0</td>\n",
       "      <td>2</td>\n",
       "      <td>0</td>\n",
       "      <td>0</td>\n",
       "      <td>0</td>\n",
       "      <td>32</td>\n",
       "      <td>YES</td>\n",
       "      <td>YES</td>\n",
       "    </tr>\n",
       "  </tbody>\n",
       "</table>\n",
       "<p>5 rows × 31 columns</p>\n",
       "</div>"
      ],
      "text/plain": [
       "   Year  Month  DayofMonth  DayOfWeek DepTime  CRSDepTime ArrTime  CRSArrTime  \\\n",
       "0  2008      1           3          4    2003        1955    2211        2225   \n",
       "1  2008      1           3          4     754         735    1002        1000   \n",
       "2  2008      1           3          4     628         620     804         750   \n",
       "3  2008      1           3          4     926         930    1054        1100   \n",
       "4  2008      1           3          4    1829        1755    1959        1925   \n",
       "\n",
       "  UniqueCarrier  FlightNum  ... Cancelled CancellationCode  Diverted  \\\n",
       "0            WN        335  ...         0             None         0   \n",
       "1            WN       3231  ...         0             None         0   \n",
       "2            WN        448  ...         0             None         0   \n",
       "3            WN       1746  ...         0             None         0   \n",
       "4            WN       3920  ...         0             None         0   \n",
       "\n",
       "  CarrierDelay  WeatherDelay  NASDelay SecurityDelay LateAircraftDelay  \\\n",
       "0           NA            NA        NA            NA                NA   \n",
       "1           NA            NA        NA            NA                NA   \n",
       "2           NA            NA        NA            NA                NA   \n",
       "3           NA            NA        NA            NA                NA   \n",
       "4            2             0         0             0                32   \n",
       "\n",
       "   IsArrDelayed IsDepDelayed  \n",
       "0            NO           NO  \n",
       "1            NO          YES  \n",
       "2            NO           NO  \n",
       "3            NO           NO  \n",
       "4           YES          YES  \n",
       "\n",
       "[5 rows x 31 columns]"
      ]
     },
     "execution_count": 15,
     "metadata": {},
     "output_type": "execute_result"
    }
   ],
   "source": [
    "airtraffic.limit(5).toPandas()"
   ]
  },
  {
   "cell_type": "code",
   "execution_count": 12,
   "id": "1a2f173a",
   "metadata": {},
   "outputs": [
    {
     "name": "stderr",
     "output_type": "stream",
     "text": [
      "[Stage 7:====================================================>  (192 + 2) / 200]\r"
     ]
    },
    {
     "name": "stdout",
     "output_type": "stream",
     "text": [
      "+----+-----+----------+\n",
      "|Year|Month|DayOfMonth|\n",
      "+----+-----+----------+\n",
      "|2008|    1|        31|\n",
      "|2008|    1|        30|\n",
      "|2008|    1|        29|\n",
      "|2008|    1|        28|\n",
      "|2008|    1|        27|\n",
      "|2008|    1|        26|\n",
      "|2008|    1|        25|\n",
      "|2008|    1|        24|\n",
      "|2008|    1|        23|\n",
      "|2008|    1|        22|\n",
      "|2008|    1|        21|\n",
      "|2008|    1|        20|\n",
      "|2008|    1|        19|\n",
      "|2008|    1|        18|\n",
      "|2008|    1|        17|\n",
      "|2008|    1|        16|\n",
      "|2008|    1|        15|\n",
      "|2008|    1|        14|\n",
      "|2008|    1|        13|\n",
      "|2008|    1|        12|\n",
      "|2008|    1|        11|\n",
      "|2008|    1|        10|\n",
      "|2008|    1|         9|\n",
      "|2008|    1|         8|\n",
      "|2008|    1|         7|\n",
      "|2008|    1|         6|\n",
      "|2008|    1|         5|\n",
      "|2008|    1|         4|\n",
      "|2008|    1|         3|\n",
      "|2008|    1|         2|\n",
      "|2008|    1|         1|\n",
      "+----+-----+----------+\n",
      "\n"
     ]
    },
    {
     "name": "stderr",
     "output_type": "stream",
     "text": [
      "\r",
      "                                                                                \r"
     ]
    }
   ],
   "source": [
    "# orderBy is extensive action because need shuffle to get all information about ranking\n",
    "\n",
    "airtraffic.select('Year', 'Month', 'DayOfMonth').distinct().orderBy(F.col('DayOfMonth').desc()).show(31)"
   ]
  },
  {
   "cell_type": "code",
   "execution_count": 16,
   "id": "7e3fdd14",
   "metadata": {},
   "outputs": [
    {
     "name": "stderr",
     "output_type": "stream",
     "text": [
      "                                                                                \r"
     ]
    },
    {
     "name": "stdout",
     "output_type": "stream",
     "text": [
      "+---------+\n",
      "|Cancelled|\n",
      "+---------+\n",
      "|        1|\n",
      "|        0|\n",
      "+---------+\n",
      "\n"
     ]
    }
   ],
   "source": [
    "airtraffic.select('Cancelled').distinct().show()"
   ]
  },
  {
   "cell_type": "code",
   "execution_count": 17,
   "id": "0c4c2e68",
   "metadata": {},
   "outputs": [
    {
     "name": "stderr",
     "output_type": "stream",
     "text": [
      "\r",
      "[Stage 19:=============================>                            (1 + 1) / 2]\r",
      "\r",
      "                                                                                \r"
     ]
    },
    {
     "data": {
      "text/plain": [
       "1142"
      ]
     },
     "execution_count": 17,
     "metadata": {},
     "output_type": "execute_result"
    }
   ],
   "source": [
    "# airtraffic.filter(airtraffic.Cancelled == 1).count()\n",
    "# airtraffic.filter(airtraffic['Cancelled'] == 1).count()\n",
    "# airtraffic.filter('Cancelled = 1').count()\n",
    "\n",
    "#self-try that works\n",
    "airtraffic.filter(F.col('Cancelled') == 1).count()\n",
    "\n"
   ]
  },
  {
   "cell_type": "code",
   "execution_count": 15,
   "id": "9589615b",
   "metadata": {},
   "outputs": [
    {
     "name": "stdout",
     "output_type": "stream",
     "text": [
      "+----------+\n",
      "|FlightDate|\n",
      "+----------+\n",
      "|2008-01-03|\n",
      "|2008-01-03|\n",
      "|2008-01-03|\n",
      "|2008-01-03|\n",
      "|2008-01-03|\n",
      "|2008-01-03|\n",
      "|2008-01-03|\n",
      "|2008-01-03|\n",
      "|2008-01-03|\n",
      "|2008-01-03|\n",
      "|2008-01-03|\n",
      "|2008-01-03|\n",
      "|2008-01-03|\n",
      "|2008-01-03|\n",
      "|2008-01-03|\n",
      "|2008-01-03|\n",
      "|2008-01-03|\n",
      "|2008-01-03|\n",
      "|2008-01-03|\n",
      "|2008-01-03|\n",
      "+----------+\n",
      "only showing top 20 rows\n",
      "\n"
     ]
    }
   ],
   "source": [
    "airtraffic.select(\n",
    "    F.concat(\n",
    "        F.col(\"Year\"),\n",
    "        F.lit(\"-\"),\n",
    "        F.lpad(F.col(\"Month\"), 2, \"0\"),\n",
    "        F.lit(\"-\"),\n",
    "        F.lpad(F.col(\"DayOfMonth\"), 2, \"0\")\n",
    "    ).alias('FlightDate')\n",
    ").show()"
   ]
  },
  {
   "cell_type": "code",
   "execution_count": 18,
   "id": "939b92f2",
   "metadata": {},
   "outputs": [
    {
     "name": "stdout",
     "output_type": "stream",
     "text": [
      "+-----------------------+----------+\n",
      "|FlightDate-right-format|Flight-DOW|\n",
      "+-----------------------+----------+\n",
      "|             2008-01-03|  Thursday|\n",
      "|             2008-01-03|  Thursday|\n",
      "|             2008-01-03|  Thursday|\n",
      "|             2008-01-03|  Thursday|\n",
      "|             2008-01-03|  Thursday|\n",
      "|             2008-01-03|  Thursday|\n",
      "|             2008-01-03|  Thursday|\n",
      "|             2008-01-03|  Thursday|\n",
      "|             2008-01-03|  Thursday|\n",
      "|             2008-01-03|  Thursday|\n",
      "|             2008-01-03|  Thursday|\n",
      "|             2008-01-03|  Thursday|\n",
      "|             2008-01-03|  Thursday|\n",
      "|             2008-01-03|  Thursday|\n",
      "|             2008-01-03|  Thursday|\n",
      "|             2008-01-03|  Thursday|\n",
      "|             2008-01-03|  Thursday|\n",
      "|             2008-01-03|  Thursday|\n",
      "|             2008-01-03|  Thursday|\n",
      "|             2008-01-03|  Thursday|\n",
      "+-----------------------+----------+\n",
      "only showing top 20 rows\n",
      "\n"
     ]
    }
   ],
   "source": [
    "from pyspark.sql.functions import col, concat, lpad, \\\n",
    "    date_format, to_date\n",
    "\n",
    "\n",
    "airtraffic. \\\n",
    "    withColumn('FlightDate',\n",
    "        concat(\n",
    "            col(\"Year\"),\n",
    "            lpad(col(\"Month\"), 2, \"0\"),\n",
    "            lpad(col(\"DayOfMonth\"), 2, \"0\")\n",
    "        )\n",
    "    ). \\\n",
    "    withColumn(\"FlightDate-right-format\", to_date('FlightDate', 'yyyyMMdd')). \\\n",
    "    withColumn('Flight-DOW', date_format(col(\"FlightDate-right-format\"), 'EEEE')). \\\n",
    "    select(\"FlightDate-right-format\", 'Flight-DOW'). \\\n",
    "    show()"
   ]
  },
  {
   "cell_type": "code",
   "execution_count": 19,
   "id": "36be5fad",
   "metadata": {},
   "outputs": [
    {
     "name": "stderr",
     "output_type": "stream",
     "text": [
      "                                                                                \r"
     ]
    },
    {
     "data": {
      "text/plain": [
       "13196"
      ]
     },
     "execution_count": 19,
     "metadata": {},
     "output_type": "execute_result"
    }
   ],
   "source": [
    "#  .filter(\"Origin IN ('ORD', 'DFW', 'ATL', 'LAX', 'SFO')\")    --> SQL-string style\n",
    "#  .filter(col().isin())   ---> DataFrame style\n",
    "\n",
    "\n",
    "airtraffic. \\\n",
    "    withColumn('FlightDate',\n",
    "        concat(\n",
    "            col(\"Year\"),\n",
    "            lpad(col(\"Month\"), 2, \"0\"),\n",
    "            lpad(col(\"DayOfMonth\"), 2, \"0\")\n",
    "        )\n",
    "    ). \\\n",
    "    withColumn(\"FlightDate-right-format\", to_date('FlightDate', 'yyyyMMdd')). \\\n",
    "    withColumn('Flight-DOW', date_format(col(\"FlightDate-right-format\"), 'EEEE')). \\\n",
    "    filter(col('Flight-DOW').isin(\"Sunday\", \"Staturday\")). \\\n",
    "    count()"
   ]
  },
  {
   "cell_type": "code",
   "execution_count": 23,
   "id": "b1ccefec",
   "metadata": {},
   "outputs": [
    {
     "name": "stderr",
     "output_type": "stream",
     "text": [
      "                                                                                \r"
     ]
    },
    {
     "data": {
      "text/plain": [
       "4133"
      ]
     },
     "execution_count": 23,
     "metadata": {},
     "output_type": "execute_result"
    }
   ],
   "source": [
    "# Get count of flights which are departed late at origin and reach destination early or on time.\n",
    "\n",
    "# & | for dataframe and AND/ OR for SQL syntax\n",
    "\n",
    "# count(F.lit(1)) better count(*) is a myth\n",
    "\n",
    "from pyspark.sql.functions import col\n",
    "\n",
    "# |-- IsArrDelayed: string (nullable = true)\n",
    "# |-- IsDepDelayed: string (nullable = true)\n",
    "\n",
    "airtraffic.filter((col(\"IsArrDelayed\") == \"NO\") & (col(\"IsDepDelayed\") == \"YES\")).count()\n"
   ]
  },
  {
   "cell_type": "code",
   "execution_count": 24,
   "id": "004bb11b",
   "metadata": {},
   "outputs": [
    {
     "name": "stderr",
     "output_type": "stream",
     "text": [
      "                                                                                \r"
     ]
    },
    {
     "data": {
      "text/plain": [
       "3634"
      ]
     },
     "execution_count": 24,
     "metadata": {},
     "output_type": "execute_result"
    }
   ],
   "source": [
    "# Get number of flights which are departed late on Saturdays as well as on Sundays.\n",
    "\n",
    "airtraffic. \\\n",
    "    withColumn('FlightDate',\n",
    "        concat(\n",
    "            col(\"Year\"),\n",
    "            lpad(col(\"Month\"), 2, \"0\"),\n",
    "            lpad(col(\"DayOfMonth\"), 2, \"0\")\n",
    "        )\n",
    "    ). \\\n",
    "    withColumn(\"FlightDate-right-format\", to_date('FlightDate', 'yyyyMMdd')). \\\n",
    "    withColumn('Flight-DOW', date_format(col(\"FlightDate-right-format\"), 'EEEE')). \\\n",
    "    filter(col('Flight-DOW').isin(\"Sunday\", \"Staturday\")). \\\n",
    "    filter(col(\"IsDepDelayed\") == \"YES\"). \\\n",
    "    count()"
   ]
  },
  {
   "cell_type": "code",
   "execution_count": 29,
   "id": "7e454920",
   "metadata": {},
   "outputs": [
    {
     "name": "stderr",
     "output_type": "stream",
     "text": [
      "[Stage 42:===============================================>        (63 + 2) / 75]\r"
     ]
    },
    {
     "name": "stdout",
     "output_type": "stream",
     "text": [
      "+-------------+\n",
      "|UniqueCarrier|\n",
      "+-------------+\n",
      "|           WN|\n",
      "+-------------+\n",
      "\n"
     ]
    },
    {
     "name": "stderr",
     "output_type": "stream",
     "text": [
      "\r",
      "                                                                                \r"
     ]
    }
   ],
   "source": [
    "#UniqueCarrier\n",
    "\n",
    "airtraffic.filter(col(\"UniqueCarrier\").like(\"W%\")).select(\"UniqueCarrier\").distinct().show(10)"
   ]
  },
  {
   "cell_type": "code",
   "execution_count": 33,
   "id": "c574de14",
   "metadata": {},
   "outputs": [
    {
     "data": {
      "text/plain": [
       "8863"
      ]
     },
     "execution_count": 33,
     "metadata": {},
     "output_type": "execute_result"
    }
   ],
   "source": [
    "# trip that arrive sooner between 5 and 10 minutes\n",
    "\n",
    "airtraffic.filter(col(\"ArrDelay\").between(5, 10)).count()"
   ]
  },
  {
   "cell_type": "code",
   "execution_count": 37,
   "id": "1fdf2cfd",
   "metadata": {},
   "outputs": [
    {
     "data": {
      "text/plain": [
       "1142"
      ]
     },
     "execution_count": 37,
     "metadata": {},
     "output_type": "execute_result"
    }
   ],
   "source": [
    "# CancellationCode\n",
    "# filter(\"bonus IS NULL\").\n",
    "airtraffic.filter(col(\"CancellationCode\").isNotNull()).count()"
   ]
  },
  {
   "cell_type": "code",
   "execution_count": 38,
   "id": "2ae6a280",
   "metadata": {},
   "outputs": [
    {
     "name": "stderr",
     "output_type": "stream",
     "text": [
      "                                                                                \r"
     ]
    },
    {
     "name": "stdout",
     "output_type": "stream",
     "text": [
      "+-------+--------------------+-----+------------------+\n",
      "|summary|                Year|Month|        DayOfMonth|\n",
      "+-------+--------------------+-----+------------------+\n",
      "|  count|               99999|99999|             99999|\n",
      "|   mean|              2008.0|  1.0|17.087740877408773|\n",
      "| stddev|1.024708919288781...|  0.0| 8.356320851749247|\n",
      "|    min|                2008|    1|                 1|\n",
      "|    max|                2008|    1|                31|\n",
      "+-------+--------------------+-----+------------------+\n",
      "\n"
     ]
    }
   ],
   "source": [
    "\n",
    "airtraffic. \\\n",
    "    select('Year', 'Month', 'DayOfMonth'). \\\n",
    "    describe(). \\\n",
    "    show()"
   ]
  },
  {
   "cell_type": "code",
   "execution_count": 39,
   "id": "74d2a749",
   "metadata": {},
   "outputs": [
    {
     "name": "stderr",
     "output_type": "stream",
     "text": [
      "[Stage 59:=============================>                            (1 + 1) / 2]\r"
     ]
    },
    {
     "name": "stdout",
     "output_type": "stream",
     "text": [
      "+-------+------+-----+------------------+\n",
      "|summary|  Year|Month|        DayOfMonth|\n",
      "+-------+------+-----+------------------+\n",
      "|  count| 99999|99999|             99999|\n",
      "|   mean|2008.0|  1.0|17.087740877408773|\n",
      "| stddev|   0.0|  0.0| 8.356320851749246|\n",
      "|    min|  2008|    1|                 1|\n",
      "|    25%|  2008|    1|                10|\n",
      "|    50%|  2008|    1|                17|\n",
      "|    75%|  2008|    1|                24|\n",
      "|    max|  2008|    1|                31|\n",
      "+-------+------+-----+------------------+\n",
      "\n"
     ]
    },
    {
     "name": "stderr",
     "output_type": "stream",
     "text": [
      "\r",
      "                                                                                \r"
     ]
    }
   ],
   "source": [
    "airtraffic. \\\n",
    "    select('Year', 'Month', 'DayOfMonth'). \\\n",
    "    summary(). \\\n",
    "    show()"
   ]
  },
  {
   "cell_type": "code",
   "execution_count": 42,
   "id": "7c03f227",
   "metadata": {},
   "outputs": [
    {
     "name": "stdout",
     "output_type": "stream",
     "text": [
      "+--------------+\n",
      "|Total ArrDelay|\n",
      "+--------------+\n",
      "|        565524|\n",
      "+--------------+\n",
      "\n"
     ]
    },
    {
     "name": "stderr",
     "output_type": "stream",
     "text": [
      "\r",
      "[Stage 63:=============================>                            (1 + 1) / 2]\r",
      "\r",
      "                                                                                \r"
     ]
    }
   ],
   "source": [
    "# sum ArrDelay\n",
    "\n",
    "airtraffic.select(F.sum(\"ArrDelay\").alias(\"Total ArrDelay\")).show()"
   ]
  },
  {
   "cell_type": "code",
   "execution_count": 67,
   "id": "a7063839",
   "metadata": {},
   "outputs": [
    {
     "name": "stdout",
     "output_type": "stream",
     "text": [
      "+-----------------+\n",
      "| Average ArrDelay|\n",
      "+-----------------+\n",
      "|5.655296552965529|\n",
      "+-----------------+\n",
      "\n",
      "5.655296552965529\n"
     ]
    }
   ],
   "source": [
    "## average ArrDelay\n",
    "## count(*) vs count(F.lit(1))  --> same as count(1) vs count(*) in Hive: count(1) for only 1 col  vs count(*)\n",
    "\n",
    "\n",
    "airtraffic.select((F.sum(\"ArrDelay\") / F.count(F.lit(1))).alias(\"Average ArrDelay\")).show()\n",
    "print(565524/99999)"
   ]
  },
  {
   "cell_type": "markdown",
   "id": "c8d639a9",
   "metadata": {},
   "source": [
    "# **groupby**"
   ]
  },
  {
   "cell_type": "code",
   "execution_count": 53,
   "id": "b79563f5",
   "metadata": {},
   "outputs": [
    {
     "name": "stderr",
     "output_type": "stream",
     "text": [
      "                                                                                \r"
     ]
    },
    {
     "name": "stdout",
     "output_type": "stream",
     "text": [
      "+----------+-----+\n",
      "|Flight-DOW|count|\n",
      "+----------+-----+\n",
      "| Wednesday|14694|\n",
      "|   Tuesday|14709|\n",
      "|    Friday|14517|\n",
      "|  Thursday|17079|\n",
      "|  Saturday|11285|\n",
      "|    Monday|14519|\n",
      "|    Sunday|13196|\n",
      "+----------+-----+\n",
      "\n"
     ]
    }
   ],
   "source": [
    "airtraffic. \\\n",
    "    withColumn('FlightDate',\n",
    "        concat(\n",
    "            col(\"Year\"),\n",
    "            lpad(col(\"Month\"), 2, \"0\"),\n",
    "            lpad(col(\"DayOfMonth\"), 2, \"0\")\n",
    "        )\n",
    "    ). \\\n",
    "    withColumn(\"FlightDate-right-format\", to_date('FlightDate', 'yyyyMMdd')). \\\n",
    "    withColumn('Flight-DOW', date_format(col(\"FlightDate-right-format\"), 'EEEE')). \\\n",
    "    groupby(\"Flight-DOW\"). \\\n",
    "    count().show()"
   ]
  },
  {
   "cell_type": "code",
   "execution_count": 55,
   "id": "dba914ca",
   "metadata": {},
   "outputs": [
    {
     "name": "stderr",
     "output_type": "stream",
     "text": [
      "[Stage 90:==================================================>     (68 + 2) / 75]\r"
     ]
    },
    {
     "name": "stdout",
     "output_type": "stream",
     "text": [
      "+----------+-----------+\n",
      "|Flight-DOW|FlightCount|\n",
      "+----------+-----------+\n",
      "| Wednesday|      14694|\n",
      "|   Tuesday|      14709|\n",
      "|    Friday|      14517|\n",
      "|  Thursday|      17079|\n",
      "|  Saturday|      11285|\n",
      "|    Monday|      14519|\n",
      "|    Sunday|      13196|\n",
      "+----------+-----------+\n",
      "\n"
     ]
    },
    {
     "name": "stderr",
     "output_type": "stream",
     "text": [
      "\r",
      "                                                                                \r"
     ]
    }
   ],
   "source": [
    "airtraffic. \\\n",
    "    withColumn('FlightDate',\n",
    "        concat(\n",
    "            col(\"Year\"),\n",
    "            lpad(col(\"Month\"), 2, \"0\"),\n",
    "            lpad(col(\"DayOfMonth\"), 2, \"0\")\n",
    "        )\n",
    "    ). \\\n",
    "    withColumn(\"FlightDate-right-format\", to_date('FlightDate', 'yyyyMMdd')). \\\n",
    "    withColumn('Flight-DOW', date_format(col(\"FlightDate-right-format\"), 'EEEE')). \\\n",
    "    groupby(\"Flight-DOW\"). \\\n",
    "    agg(F.count(F.lit(1)).alias(\"FlightCount\")).show()"
   ]
  },
  {
   "cell_type": "code",
   "execution_count": 57,
   "id": "66cfb137",
   "metadata": {},
   "outputs": [
    {
     "name": "stderr",
     "output_type": "stream",
     "text": [
      "                                                                                \r"
     ]
    },
    {
     "name": "stdout",
     "output_type": "stream",
     "text": [
      "+----------+-----------+--------------+------------+\n",
      "|Flight-DOW|FlightCount|Total ArrDelay|Avg ArrDelay|\n",
      "+----------+-----------+--------------+------------+\n",
      "| Wednesday|      14694|        -23881|       -1.65|\n",
      "|   Tuesday|      14709|          6450|        0.45|\n",
      "|    Friday|      14517|        110279|        7.68|\n",
      "|  Thursday|      17079|        224569|       13.39|\n",
      "|  Saturday|      11285|         23118|        2.07|\n",
      "|    Monday|      14519|         65560|        4.57|\n",
      "|    Sunday|      13196|        159429|       12.19|\n",
      "+----------+-----------+--------------+------------+\n",
      "\n"
     ]
    },
    {
     "name": "stderr",
     "output_type": "stream",
     "text": [
      "\r",
      "[Stage 110:=================================================>     (67 + 2) / 75]\r",
      "\r",
      "                                                                                \r"
     ]
    }
   ],
   "source": [
    "airtraffic. \\\n",
    "    withColumn('FlightDate',\n",
    "        concat(\n",
    "            col(\"Year\"),\n",
    "            lpad(col(\"Month\"), 2, \"0\"),\n",
    "            lpad(col(\"DayOfMonth\"), 2, \"0\")\n",
    "        )\n",
    "    ). \\\n",
    "    withColumn(\"FlightDate-right-format\", to_date('FlightDate', 'yyyyMMdd')). \\\n",
    "    withColumn('Flight-DOW', date_format(col(\"FlightDate-right-format\"), 'EEEE')). \\\n",
    "    groupby(\"Flight-DOW\").  \\\n",
    "    agg(\n",
    "    F.count(F.lit(1)).alias(\"FlightCount\"),\n",
    "    F.sum(\"ArrDelay\").alias(\"Total ArrDelay\"),\n",
    "    F.round(F.avg(\"ArrDelay\"), 2).alias(\"Avg ArrDelay\")\n",
    ").show()"
   ]
  },
  {
   "cell_type": "markdown",
   "id": "d1935909",
   "metadata": {},
   "source": [
    "#  advanced aggregations using rollup"
   ]
  },
  {
   "cell_type": "code",
   "execution_count": 61,
   "id": "ee8a0605",
   "metadata": {},
   "outputs": [
    {
     "name": "stderr",
     "output_type": "stream",
     "text": [
      "[Stage 134:==============================================>      (175 + 2) / 200]\r"
     ]
    },
    {
     "name": "stdout",
     "output_type": "stream",
     "text": [
      "+----------+------------+-----------+\n",
      "|Flight-DOW|IsDepDelayed|FlightCount|\n",
      "+----------+------------+-----------+\n",
      "|      null|        null|      99999|\n",
      "|      null|          NO|      79531|\n",
      "|      null|         YES|      20468|\n",
      "|    Friday|        null|      14517|\n",
      "|    Friday|          NO|      10841|\n",
      "|    Friday|         YES|       3676|\n",
      "|    Monday|        null|      14519|\n",
      "|    Monday|          NO|      11754|\n",
      "|    Monday|         YES|       2765|\n",
      "|  Saturday|        null|      11285|\n",
      "|  Saturday|          NO|       9315|\n",
      "|  Saturday|         YES|       1970|\n",
      "|    Sunday|        null|      13196|\n",
      "|    Sunday|          NO|       9562|\n",
      "|    Sunday|         YES|       3634|\n",
      "|  Thursday|        null|      17079|\n",
      "|  Thursday|          NO|      12079|\n",
      "|  Thursday|         YES|       5000|\n",
      "|   Tuesday|        null|      14709|\n",
      "|   Tuesday|          NO|      12805|\n",
      "+----------+------------+-----------+\n",
      "only showing top 20 rows\n",
      "\n"
     ]
    },
    {
     "name": "stderr",
     "output_type": "stream",
     "text": [
      "\r",
      "[Stage 134:===================================================> (196 + 2) / 200]\r",
      "\r",
      "                                                                                \r"
     ]
    }
   ],
   "source": [
    "airtraffic. \\\n",
    "    withColumn('FlightDate',\n",
    "        concat(\n",
    "            col(\"Year\"),\n",
    "            lpad(col(\"Month\"), 2, \"0\"),\n",
    "            lpad(col(\"DayOfMonth\"), 2, \"0\")\n",
    "        )\n",
    "    ). \\\n",
    "    withColumn(\"FlightDate-right-format\", to_date('FlightDate', 'yyyyMMdd')). \\\n",
    "    withColumn('Flight-DOW', date_format(col(\"FlightDate-right-format\"), 'EEEE')). \\\n",
    "    cube(\"Flight-DOW\", \"IsDepDelayed\").  \\\n",
    "    agg(\n",
    "    F.count(F.lit(1)).alias(\"FlightCount\"),\n",
    "  ).orderBy(\"Flight-DOW\", \"IsDepDelayed\").show()"
   ]
  },
  {
   "cell_type": "markdown",
   "id": "3fcf366f",
   "metadata": {},
   "source": [
    "* Get total number of flights as well as number of flights which are delayed in departure and number of flights delayed in arrival. \n",
    "  * Output should contain 3 columns - **FlightCount**, **DepDelayedCount**, **ArrDelayedCount**"
   ]
  },
  {
   "cell_type": "code",
   "execution_count": 71,
   "id": "20eb9579",
   "metadata": {},
   "outputs": [
    {
     "name": "stdout",
     "output_type": "stream",
     "text": [
      "+-----------+----------------+---------------+\n",
      "|FlightCount| DepDelayedCount|ArrDelayedCount|\n",
      "+-----------+----------------+---------------+\n",
      "|      98857|           20468|          19629|\n",
      "+-----------+----------------+---------------+\n",
      "\n"
     ]
    }
   ],
   "source": [
    "# need to count condition --> when with True for DataFrame vs CASE WHEN syntax in SQL style\n",
    "\n",
    "from pyspark.sql.functions import col, count, when\n",
    "\n",
    "airtraffic.filter(col(\"Cancelled\") == 0). \\\n",
    "    select(count(\"*\").alias(\"FlightCount\"),\n",
    "                  count(when(col(\"IsDepDelayed\") == \"YES\", True)).alias(\" DepDelayedCount\"),\n",
    "                  count(when(col(\"IsArrDelayed\") == \"YES\", True)).alias(\"ArrDelayedCount\")\n",
    "\n",
    ").show()"
   ]
  },
  {
   "cell_type": "code",
   "execution_count": 73,
   "id": "ea5a9f98",
   "metadata": {},
   "outputs": [
    {
     "name": "stdout",
     "output_type": "stream",
     "text": [
      "+-----------+---------------+---------------+\n",
      "|FlightCount|DepDelayedCount|ArrDelayedCount|\n",
      "+-----------+---------------+---------------+\n",
      "|      98857|          20468|          19629|\n",
      "+-----------+---------------+---------------+\n",
      "\n"
     ]
    }
   ],
   "source": [
    "airtraffic. \\\n",
    "    filter('Cancelled = 0'). \\\n",
    "    agg(count(lit(1)).alias(\"FlightCount\"),\n",
    "        F.sum(when(col('IsDepDelayed') == 'YES', 1).otherwise(lit(0))).alias(\"DepDelayedCount\"),\n",
    "        F.sum(when(col('IsArrDelayed') == lit('YES'), 1).otherwise(lit(0))).alias(\"ArrDelayedCount\")\n",
    "       ). \\\n",
    "    show()"
   ]
  },
  {
   "cell_type": "markdown",
   "id": "6abe0653",
   "metadata": {},
   "source": [
    "* Get number of flights which are delayed in departure and number of flights delayed in arrival for each day along with number of flights departed for each day. \n",
    "  * Output should contain 4 columns - **FlightDate**, **FlightCount**, **DepDelayedCount**, **ArrDelayedCount**\n",
    "  * **FlightDate** should be of **yyyy-MM-dd** format.\n",
    "  * Data should be **sorted** in ascending order by **flightDate**"
   ]
  },
  {
   "cell_type": "code",
   "execution_count": 12,
   "id": "bac4ecb5",
   "metadata": {},
   "outputs": [
    {
     "name": "stderr",
     "output_type": "stream",
     "text": [
      "[Stage 7:====================================================>  (190 + 2) / 200]\r"
     ]
    },
    {
     "name": "stdout",
     "output_type": "stream",
     "text": [
      "+----------+-----------+----------------+---------------+\n",
      "|FlightDate|FlightCount| DepDelayedCount|ArrDelayedCount|\n",
      "+----------+-----------+----------------+---------------+\n",
      "|2008-01-01|        189|              55|             47|\n",
      "|2008-01-02|        188|              57|             52|\n",
      "|2008-01-03|       2554|            1293|           1130|\n",
      "|2008-01-04|       3619|            1224|           1141|\n",
      "|2008-01-05|       2981|            1161|           1115|\n",
      "|2008-01-06|       3418|            1343|           1225|\n",
      "|2008-01-07|       3635|             642|            607|\n",
      "|2008-01-08|       3635|             531|            504|\n",
      "|2008-01-09|       3632|             366|            331|\n",
      "|2008-01-10|       3636|             511|            485|\n",
      "|2008-01-11|       3639|             482|            413|\n",
      "|2008-01-12|       2944|             158|            120|\n",
      "|2008-01-13|       3260|             651|            590|\n",
      "|2008-01-14|       3628|             199|            215|\n",
      "|2008-01-15|       3626|             371|            323|\n",
      "|2008-01-16|       3625|             247|            221|\n",
      "|2008-01-17|       3629|            1125|           1100|\n",
      "|2008-01-18|       3629|             982|            886|\n",
      "|2008-01-19|       2681|             316|            276|\n",
      "|2008-01-20|       3261|             246|            189|\n",
      "|2008-01-21|       3628|            1173|           1130|\n",
      "|2008-01-22|       3628|             570|            535|\n",
      "|2008-01-23|       3625|             490|            496|\n",
      "|2008-01-24|       3630|             658|            648|\n",
      "|2008-01-25|       3630|             988|           1033|\n",
      "|2008-01-26|       2679|             335|            364|\n",
      "|2008-01-27|       3257|            1394|           1426|\n",
      "|2008-01-28|       3628|             751|            776|\n",
      "|2008-01-29|       3631|             377|            403|\n",
      "|2008-01-30|       3624|             359|            327|\n",
      "|2008-01-31|       3630|            1413|           1521|\n",
      "+----------+-----------+----------------+---------------+\n",
      "\n"
     ]
    },
    {
     "name": "stderr",
     "output_type": "stream",
     "text": [
      "\r",
      "                                                                                \r"
     ]
    }
   ],
   "source": [
    "# count(\"*\") is ok vs count(lit(1))\n",
    "\n",
    "from pyspark.sql.functions import col, count, when, concat, to_date, lpad, date_format\n",
    "\n",
    "count_by_flighdate = airtraffic. \\\n",
    "    withColumn('FlightDate',\n",
    "        to_date(concat(\n",
    "            col(\"Year\"),\n",
    "            lpad(col(\"Month\"), 2, \"0\"),\n",
    "            lpad(col(\"DayOfMonth\"), 2, \"0\")\n",
    "        ), \"yyyyMMdd\")\n",
    "    ). \\\n",
    "groupby(\"FlightDate\"). \\\n",
    "   agg(count(\"*\").alias(\"FlightCount\"),\n",
    "       count(when(col(\"IsDepDelayed\") == \"YES\", True)).alias(\" DepDelayedCount\"),\n",
    "    count(when(col(\"IsArrDelayed\") == \"YES\", True)).alias(\"ArrDelayedCount\")\n",
    "       ).orderBy(col('FlightDate'))\n",
    "\n",
    "\n",
    "count_by_flighdate.show(31)"
   ]
  },
  {
   "cell_type": "code",
   "execution_count": 13,
   "id": "30b0fd2e",
   "metadata": {},
   "outputs": [
    {
     "name": "stderr",
     "output_type": "stream",
     "text": [
      "                                                                                \r"
     ]
    },
    {
     "name": "stdout",
     "output_type": "stream",
     "text": [
      "+--------------------+\n",
      "|sum(ArrDelayedCount)|\n",
      "+--------------------+\n",
      "|               19629|\n",
      "+--------------------+\n",
      "\n"
     ]
    },
    {
     "name": "stderr",
     "output_type": "stream",
     "text": [
      "[Stage 12:==================================================>   (186 + 2) / 200]\r"
     ]
    },
    {
     "name": "stdout",
     "output_type": "stream",
     "text": [
      "+----------------+\n",
      "|sum(FlightCount)|\n",
      "+----------------+\n",
      "|           99999|\n",
      "+----------------+\n",
      "\n"
     ]
    },
    {
     "name": "stderr",
     "output_type": "stream",
     "text": [
      "\r",
      "                                                                                \r"
     ]
    }
   ],
   "source": [
    "print(count_by_flighdate.agg(F.sum(\"ArrDelayedCount\")))\n",
    "print(count_by_flighdate.agg(F.sum(\"FlightCount\")))\n"
   ]
  },
  {
   "cell_type": "code",
   "execution_count": null,
   "id": "601d0e2e",
   "metadata": {},
   "outputs": [],
   "source": []
  },
  {
   "cell_type": "markdown",
   "id": "afba3e84",
   "metadata": {},
   "source": [
    "* Get all the flights which are departed late but arrived early (**IsArrDelayed is NO**).\n",
    "  * Output should contain - **FlightCRSDepTime**, **UniqueCarrier**, **FlightNum**, **Origin**, **Dest**, **DepDelay**, **ArrDelay**\n",
    "  * **FlightCRSDepTime** need to be computed using **Year**, **Month**, **DayOfMonth**, **CRSDepTime**\n",
    "  * **FlightCRSDepTime** should be displayed using **yyyy-MM-dd HH:mm** format.\n",
    "  * Output should be sorted by **FlightCRSDepTime** and then by the difference between **DepDelay** and **ArrDelay**\n",
    "  * Also get the count of such flights"
   ]
  },
  {
   "cell_type": "code",
   "execution_count": 34,
   "id": "680c0bd7",
   "metadata": {},
   "outputs": [
    {
     "name": "stdout",
     "output_type": "stream",
     "text": [
      "+-------+----------+--------+--------+-----------+\n",
      "|DepTime|CRSDepTime|DepDelay|hour-CRS|minutes-CRS|\n",
      "+-------+----------+--------+--------+-----------+\n",
      "|   2003|      1955|       8|      19|         55|\n",
      "|    754|       735|      19|      07|         35|\n",
      "|    628|       620|       8|      06|         20|\n",
      "|    926|       930|      -4|      09|         30|\n",
      "|   1829|      1755|      34|      17|         55|\n",
      "|   1940|      1915|      25|      19|         15|\n",
      "|   1937|      1830|      67|      18|         30|\n",
      "|   1039|      1040|      -1|      10|         40|\n",
      "|    617|       615|       2|      06|         15|\n",
      "|   1620|      1620|       0|      16|         20|\n",
      "+-------+----------+--------+--------+-----------+\n",
      "only showing top 10 rows\n",
      "\n"
     ]
    }
   ],
   "source": [
    "# exploration  ==> DepTime and CRSDepTimeh have form HHmm or Hmm ---> lpad + substring\n",
    "\n",
    "from pyspark.sql.functions import col, lpad, substring\n",
    "\n",
    "airtraffic.withColumn(\"hour-CRS\", substring(lpad(col(\"CRSDepTime\"), 4, \"0\"), 1, 2)). \\\n",
    "        withColumn(\"minutes-CRS\", substring(col(\"CRSDepTime\"), -2, 2)). \\\n",
    "        select(\"DepTime\", \"CRSDepTime\", \"DepDelay\", \"hour-CRS\", \"minutes-CRS\").show(10)"
   ]
  },
  {
   "cell_type": "code",
   "execution_count": 64,
   "id": "a339151a",
   "metadata": {},
   "outputs": [
    {
     "name": "stderr",
     "output_type": "stream",
     "text": [
      "\r",
      "[Stage 49:>                                                         (0 + 2) / 2]\r",
      "\r",
      "[Stage 49:=============================>                            (1 + 1) / 2]\r"
     ]
    },
    {
     "name": "stdout",
     "output_type": "stream",
     "text": [
      "+----------------+-------------+---------+------+----+--------+--------+\n",
      "|FlightCRSDepTime|UniqueCarrier|FlightNum|Origin|Dest|DepDelay|ArrDelay|\n",
      "+----------------+-------------+---------+------+----+--------+--------+\n",
      "|2008-01-01 07:30|           XE|      301|   SAT| TUS|      23|       7|\n",
      "|2008-01-01 08:51|           XE|     7672|   SLC| PHX|      26|       1|\n",
      "|2008-01-01 08:55|           XE|      408|   SAN| TUL|      15|      13|\n",
      "|2008-01-01 13:30|           XE|      319|   GEG| TUS|      18|      10|\n",
      "|2008-01-01 14:45|           XE|      528|   MCI| JAX|      23|       9|\n",
      "|2008-01-01 15:00|           XE|       54|   MCI| TUS|      15|     -11|\n",
      "|2008-01-01 15:15|           XE|      423|   SAN| GEG|      23|      -7|\n",
      "|2008-01-01 16:50|           XE|      415|   SAN| OMA|      17|      14|\n",
      "|2008-01-01 18:10|           XE|      223|   SMF| TUL|      19|       4|\n",
      "|2008-01-01 18:40|           XE|      619|   MSY| SAT|      16|       2|\n",
      "|2008-01-01 18:45|           XE|      622|   JAX| MCI|      27|      14|\n",
      "|2008-01-01 19:10|           XE|      314|   JAX| RDU|      19|       9|\n",
      "|2008-01-02 08:20|           XE|      511|   MSY| AUS|      15|      -3|\n",
      "|2008-01-02 08:30|           XE|      114|   ONT| BOI|      17|       1|\n",
      "|2008-01-02 09:10|           XE|      200|   LGB| RNO|      20|      13|\n",
      "|2008-01-02 11:00|           XE|      200|   RNO| GEG|      19|       1|\n",
      "|2008-01-02 11:10|           XE|      502|   RDU| SAT|      16|      -3|\n",
      "|2008-01-02 11:40|           XE|       41|   ABQ| TUL|      17|       9|\n",
      "|2008-01-02 12:10|           XE|      308|   JAX| AUS|      18|       1|\n",
      "|2008-01-02 12:15|           XE|      144|   ONT| MRY|      25|       8|\n",
      "+----------------+-------------+---------+------+----+--------+--------+\n",
      "only showing top 20 rows\n",
      "\n"
     ]
    },
    {
     "name": "stderr",
     "output_type": "stream",
     "text": [
      "\r",
      "                                                                                \r"
     ]
    }
   ],
   "source": [
    "from pyspark.sql.functions import  year, month, weekofyear, dayofmonth, \\\n",
    "    dayofyear, dayofweek, current_date, \\\n",
    "current_timestamp, hour, minute, second\n",
    "\n",
    "from pyspark.sql.functions import lit, col, floor, to_timestamp\n",
    "\n",
    "\n",
    "result = airtraffic. \\\n",
    "    withColumn('FlightCRSDepTime',\n",
    "               concat(\n",
    "                   col(\"Year\"),\n",
    "                   lit(\"-\"),\n",
    "                   lpad(col(\"Month\"), 2, \"0\"),\n",
    "                   lit(\"-\"),\n",
    "                   lpad(col(\"DayOfMonth\"), 2, \"0\"),\n",
    "                   lit(\" \"),\n",
    "                   substring(lpad(col(\"CRSDepTime\"), 4, \"0\"), 1, 2),\n",
    "                   lit(\":\"),\n",
    "                   substring(col(\"CRSDepTime\"), -2, 2)\n",
    "               )\n",
    "    ).filter((col(\"IsArrDelayed\") == \"NO\") & (col(\"IsDepDelayed\") == \"YES\")). \\\n",
    "        select(\"FlightCRSDepTime\", \"UniqueCarrier\", \"FlightNum\", \"Origin\", \"Dest\", \"DepDelay\", \"ArrDelay\"). \\\n",
    "orderBy(\"FlightCRSDepTime\", F.abs(col(\"DepDelay\") - col(\"ArrDelay\")))\n",
    "\n",
    "\n",
    "\n",
    "result.show()"
   ]
  },
  {
   "cell_type": "code",
   "execution_count": 65,
   "id": "21376c33",
   "metadata": {},
   "outputs": [
    {
     "data": {
      "text/plain": [
       "4133"
      ]
     },
     "execution_count": 65,
     "metadata": {},
     "output_type": "execute_result"
    }
   ],
   "source": [
    "result.count()"
   ]
  }
 ],
 "metadata": {
  "kernelspec": {
   "display_name": "Python 3 (ipykernel)",
   "language": "python",
   "name": "python3"
  },
  "language_info": {
   "codemirror_mode": {
    "name": "ipython",
    "version": 3
   },
   "file_extension": ".py",
   "mimetype": "text/x-python",
   "name": "python",
   "nbconvert_exporter": "python",
   "pygments_lexer": "ipython3",
   "version": "3.8.10"
  }
 },
 "nbformat": 4,
 "nbformat_minor": 5
}
