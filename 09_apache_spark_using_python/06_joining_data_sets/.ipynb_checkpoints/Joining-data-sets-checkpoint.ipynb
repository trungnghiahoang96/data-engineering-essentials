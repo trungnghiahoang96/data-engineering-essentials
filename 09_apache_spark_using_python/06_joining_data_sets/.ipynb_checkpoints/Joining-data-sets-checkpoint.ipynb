{
 "cells": [
  {
   "cell_type": "code",
   "execution_count": 1,
   "id": "05373410",
   "metadata": {},
   "outputs": [],
   "source": [
    "from pyspark.sql import SparkSession, DataFrame, Window\n",
    "import pyspark.sql.functions as F\n",
    "import pandas as pd"
   ]
  },
  {
   "cell_type": "code",
   "execution_count": null,
   "id": "9708a4d5",
   "metadata": {},
   "outputs": [],
   "source": []
  },
  {
   "cell_type": "code",
   "execution_count": 2,
   "id": "af4250c0",
   "metadata": {
    "scrolled": false
   },
   "outputs": [
    {
     "name": "stderr",
     "output_type": "stream",
     "text": [
      "Using Spark's default log4j profile: org/apache/spark/log4j-defaults.properties\n",
      "Setting default log level to \"WARN\".\n",
      "To adjust logging level use sc.setLogLevel(newLevel). For SparkR, use setLogLevel(newLevel).\n"
     ]
    }
   ],
   "source": [
    "import getpass\n",
    "username = getpass.getuser()\n",
    "\n",
    "username\n",
    "\n",
    "spark = SparkSession. \\\n",
    "    builder. \\\n",
    "    config('spark.ui.port', '4000'). \\\n",
    "    config(\"spark.sql.warehouse.dir\", \"hdfs://0.0.0.0:9000/user/hive/warehouse/\"). \\\n",
    "    config(\"spark.sql.debug.maxToStringFields\", 1000). \\\n",
    "    config(\"spark.dynamicAllocation.enabled\", \"false\"). \\\n",
    "    enableHiveSupport(). \\\n",
    "    appName(f'{username} | Python - Data Processing - Overview'). \\\n",
    "    master('yarn'). \\\n",
    "    getOrCreate()"
   ]
  },
  {
   "cell_type": "code",
   "execution_count": null,
   "id": "349e8b92",
   "metadata": {},
   "outputs": [],
   "source": []
  },
  {
   "cell_type": "code",
   "execution_count": 3,
   "id": "5a326aab",
   "metadata": {},
   "outputs": [
    {
     "name": "stderr",
     "output_type": "stream",
     "text": [
      "                                                                                \r"
     ]
    }
   ],
   "source": [
    "orders = spark.read.json('/home/nghiaht7/data-engineer/data-engineering-essentials/data/retail_db_json/orders')"
   ]
  },
  {
   "cell_type": "code",
   "execution_count": 4,
   "id": "20e9888d",
   "metadata": {},
   "outputs": [
    {
     "name": "stderr",
     "output_type": "stream",
     "text": [
      "                                                                                \r"
     ]
    }
   ],
   "source": [
    "order_items = spark.read.json('/home/nghiaht7/data-engineer/data-engineering-essentials/data/retail_db_json/order_items')"
   ]
  },
  {
   "cell_type": "code",
   "execution_count": 5,
   "id": "5f1885da",
   "metadata": {},
   "outputs": [
    {
     "name": "stdout",
     "output_type": "stream",
     "text": [
      "root\n",
      " |-- order_customer_id: long (nullable = true)\n",
      " |-- order_date: string (nullable = true)\n",
      " |-- order_id: long (nullable = true)\n",
      " |-- order_status: string (nullable = true)\n",
      "\n"
     ]
    }
   ],
   "source": [
    "orders.printSchema()"
   ]
  },
  {
   "cell_type": "code",
   "execution_count": 6,
   "id": "b1660864",
   "metadata": {},
   "outputs": [
    {
     "name": "stdout",
     "output_type": "stream",
     "text": [
      "root\n",
      " |-- order_item_id: long (nullable = true)\n",
      " |-- order_item_order_id: long (nullable = true)\n",
      " |-- order_item_product_id: long (nullable = true)\n",
      " |-- order_item_product_price: double (nullable = true)\n",
      " |-- order_item_quantity: long (nullable = true)\n",
      " |-- order_item_subtotal: double (nullable = true)\n",
      "\n"
     ]
    }
   ],
   "source": [
    "order_items.printSchema()"
   ]
  },
  {
   "cell_type": "markdown",
   "id": "d5c23a4d",
   "metadata": {},
   "source": [
    "# inner join\n"
   ]
  },
  {
   "cell_type": "code",
   "execution_count": 11,
   "id": "1c498c22",
   "metadata": {},
   "outputs": [
    {
     "name": "stderr",
     "output_type": "stream",
     "text": [
      "                                                                                \r"
     ]
    },
    {
     "data": {
      "text/html": [
       "<div>\n",
       "<style scoped>\n",
       "    .dataframe tbody tr th:only-of-type {\n",
       "        vertical-align: middle;\n",
       "    }\n",
       "\n",
       "    .dataframe tbody tr th {\n",
       "        vertical-align: top;\n",
       "    }\n",
       "\n",
       "    .dataframe thead th {\n",
       "        text-align: right;\n",
       "    }\n",
       "</style>\n",
       "<table border=\"1\" class=\"dataframe\">\n",
       "  <thead>\n",
       "    <tr style=\"text-align: right;\">\n",
       "      <th></th>\n",
       "      <th>order_customer_id</th>\n",
       "      <th>order_date</th>\n",
       "      <th>order_id</th>\n",
       "      <th>order_status</th>\n",
       "      <th>order_item_id</th>\n",
       "      <th>order_item_order_id</th>\n",
       "      <th>order_item_product_id</th>\n",
       "      <th>order_item_product_price</th>\n",
       "      <th>order_item_quantity</th>\n",
       "      <th>order_item_subtotal</th>\n",
       "    </tr>\n",
       "  </thead>\n",
       "  <tbody>\n",
       "    <tr>\n",
       "      <th>0</th>\n",
       "      <td>11599</td>\n",
       "      <td>2013-07-25 00:00:00.0</td>\n",
       "      <td>1</td>\n",
       "      <td>CLOSED</td>\n",
       "      <td>1</td>\n",
       "      <td>1</td>\n",
       "      <td>957</td>\n",
       "      <td>299.98</td>\n",
       "      <td>1</td>\n",
       "      <td>299.98</td>\n",
       "    </tr>\n",
       "    <tr>\n",
       "      <th>1</th>\n",
       "      <td>256</td>\n",
       "      <td>2013-07-25 00:00:00.0</td>\n",
       "      <td>2</td>\n",
       "      <td>PENDING_PAYMENT</td>\n",
       "      <td>2</td>\n",
       "      <td>2</td>\n",
       "      <td>1073</td>\n",
       "      <td>199.99</td>\n",
       "      <td>1</td>\n",
       "      <td>199.99</td>\n",
       "    </tr>\n",
       "    <tr>\n",
       "      <th>2</th>\n",
       "      <td>256</td>\n",
       "      <td>2013-07-25 00:00:00.0</td>\n",
       "      <td>2</td>\n",
       "      <td>PENDING_PAYMENT</td>\n",
       "      <td>3</td>\n",
       "      <td>2</td>\n",
       "      <td>502</td>\n",
       "      <td>50.00</td>\n",
       "      <td>5</td>\n",
       "      <td>250.00</td>\n",
       "    </tr>\n",
       "    <tr>\n",
       "      <th>3</th>\n",
       "      <td>256</td>\n",
       "      <td>2013-07-25 00:00:00.0</td>\n",
       "      <td>2</td>\n",
       "      <td>PENDING_PAYMENT</td>\n",
       "      <td>4</td>\n",
       "      <td>2</td>\n",
       "      <td>403</td>\n",
       "      <td>129.99</td>\n",
       "      <td>1</td>\n",
       "      <td>129.99</td>\n",
       "    </tr>\n",
       "    <tr>\n",
       "      <th>4</th>\n",
       "      <td>8827</td>\n",
       "      <td>2013-07-25 00:00:00.0</td>\n",
       "      <td>4</td>\n",
       "      <td>CLOSED</td>\n",
       "      <td>5</td>\n",
       "      <td>4</td>\n",
       "      <td>897</td>\n",
       "      <td>24.99</td>\n",
       "      <td>2</td>\n",
       "      <td>49.98</td>\n",
       "    </tr>\n",
       "    <tr>\n",
       "      <th>5</th>\n",
       "      <td>8827</td>\n",
       "      <td>2013-07-25 00:00:00.0</td>\n",
       "      <td>4</td>\n",
       "      <td>CLOSED</td>\n",
       "      <td>6</td>\n",
       "      <td>4</td>\n",
       "      <td>365</td>\n",
       "      <td>59.99</td>\n",
       "      <td>5</td>\n",
       "      <td>299.95</td>\n",
       "    </tr>\n",
       "    <tr>\n",
       "      <th>6</th>\n",
       "      <td>8827</td>\n",
       "      <td>2013-07-25 00:00:00.0</td>\n",
       "      <td>4</td>\n",
       "      <td>CLOSED</td>\n",
       "      <td>7</td>\n",
       "      <td>4</td>\n",
       "      <td>502</td>\n",
       "      <td>50.00</td>\n",
       "      <td>3</td>\n",
       "      <td>150.00</td>\n",
       "    </tr>\n",
       "    <tr>\n",
       "      <th>7</th>\n",
       "      <td>8827</td>\n",
       "      <td>2013-07-25 00:00:00.0</td>\n",
       "      <td>4</td>\n",
       "      <td>CLOSED</td>\n",
       "      <td>8</td>\n",
       "      <td>4</td>\n",
       "      <td>1014</td>\n",
       "      <td>49.98</td>\n",
       "      <td>4</td>\n",
       "      <td>199.92</td>\n",
       "    </tr>\n",
       "    <tr>\n",
       "      <th>8</th>\n",
       "      <td>11318</td>\n",
       "      <td>2013-07-25 00:00:00.0</td>\n",
       "      <td>5</td>\n",
       "      <td>COMPLETE</td>\n",
       "      <td>9</td>\n",
       "      <td>5</td>\n",
       "      <td>957</td>\n",
       "      <td>299.98</td>\n",
       "      <td>1</td>\n",
       "      <td>299.98</td>\n",
       "    </tr>\n",
       "    <tr>\n",
       "      <th>9</th>\n",
       "      <td>11318</td>\n",
       "      <td>2013-07-25 00:00:00.0</td>\n",
       "      <td>5</td>\n",
       "      <td>COMPLETE</td>\n",
       "      <td>10</td>\n",
       "      <td>5</td>\n",
       "      <td>365</td>\n",
       "      <td>59.99</td>\n",
       "      <td>5</td>\n",
       "      <td>299.95</td>\n",
       "    </tr>\n",
       "  </tbody>\n",
       "</table>\n",
       "</div>"
      ],
      "text/plain": [
       "   order_customer_id             order_date  order_id     order_status  \\\n",
       "0              11599  2013-07-25 00:00:00.0         1           CLOSED   \n",
       "1                256  2013-07-25 00:00:00.0         2  PENDING_PAYMENT   \n",
       "2                256  2013-07-25 00:00:00.0         2  PENDING_PAYMENT   \n",
       "3                256  2013-07-25 00:00:00.0         2  PENDING_PAYMENT   \n",
       "4               8827  2013-07-25 00:00:00.0         4           CLOSED   \n",
       "5               8827  2013-07-25 00:00:00.0         4           CLOSED   \n",
       "6               8827  2013-07-25 00:00:00.0         4           CLOSED   \n",
       "7               8827  2013-07-25 00:00:00.0         4           CLOSED   \n",
       "8              11318  2013-07-25 00:00:00.0         5         COMPLETE   \n",
       "9              11318  2013-07-25 00:00:00.0         5         COMPLETE   \n",
       "\n",
       "   order_item_id  order_item_order_id  order_item_product_id  \\\n",
       "0              1                    1                    957   \n",
       "1              2                    2                   1073   \n",
       "2              3                    2                    502   \n",
       "3              4                    2                    403   \n",
       "4              5                    4                    897   \n",
       "5              6                    4                    365   \n",
       "6              7                    4                    502   \n",
       "7              8                    4                   1014   \n",
       "8              9                    5                    957   \n",
       "9             10                    5                    365   \n",
       "\n",
       "   order_item_product_price  order_item_quantity  order_item_subtotal  \n",
       "0                    299.98                    1               299.98  \n",
       "1                    199.99                    1               199.99  \n",
       "2                     50.00                    5               250.00  \n",
       "3                    129.99                    1               129.99  \n",
       "4                     24.99                    2                49.98  \n",
       "5                     59.99                    5               299.95  \n",
       "6                     50.00                    3               150.00  \n",
       "7                     49.98                    4               199.92  \n",
       "8                    299.98                    1               299.98  \n",
       "9                     59.99                    5               299.95  "
      ]
     },
     "execution_count": 11,
     "metadata": {},
     "output_type": "execute_result"
    }
   ],
   "source": [
    "orders_join = orders.join(\n",
    "    order_items, \n",
    "    orders.order_id == order_items.order_item_order_id\n",
    ")\n",
    "\n",
    "orders_join.toPandas().head(10)"
   ]
  },
  {
   "cell_type": "code",
   "execution_count": null,
   "id": "6b164f7d",
   "metadata": {},
   "outputs": [],
   "source": [
    "# orders_join = orders.join(\n",
    "#     order_items, \n",
    "#     on=orders.order_id == order_items.order_item_order_id\n",
    "# )"
   ]
  },
  {
   "cell_type": "code",
   "execution_count": null,
   "id": "292e68c0",
   "metadata": {},
   "outputs": [],
   "source": [
    "orders_join = orders.join(\n",
    "    order_items, \n",
    "    on=orders['order_id'] == order_items['order_item_order_id']\n",
    ")"
   ]
  },
  {
   "cell_type": "code",
   "execution_count": null,
   "id": "f85611b3",
   "metadata": {},
   "outputs": [],
   "source": [
    "# orders_join = orders.join(\n",
    "#     order_items, \n",
    "#     on=orders['order_id'] == order_items['order_item_order_id'],\n",
    "#     how='inner'\n",
    "# )"
   ]
  },
  {
   "cell_type": "code",
   "execution_count": 12,
   "id": "f003433a",
   "metadata": {},
   "outputs": [
    {
     "name": "stdout",
     "output_type": "stream",
     "text": [
      "+-----------------+--------------------+--------+---------------+-------------------+\n",
      "|order_customer_id|          order_date|order_id|   order_status|order_item_subtotal|\n",
      "+-----------------+--------------------+--------+---------------+-------------------+\n",
      "|            11599|2013-07-25 00:00:...|       1|         CLOSED|             299.98|\n",
      "|              256|2013-07-25 00:00:...|       2|PENDING_PAYMENT|             199.99|\n",
      "|              256|2013-07-25 00:00:...|       2|PENDING_PAYMENT|              250.0|\n",
      "|              256|2013-07-25 00:00:...|       2|PENDING_PAYMENT|             129.99|\n",
      "|             8827|2013-07-25 00:00:...|       4|         CLOSED|              49.98|\n",
      "|             8827|2013-07-25 00:00:...|       4|         CLOSED|             299.95|\n",
      "|             8827|2013-07-25 00:00:...|       4|         CLOSED|              150.0|\n",
      "|             8827|2013-07-25 00:00:...|       4|         CLOSED|             199.92|\n",
      "|            11318|2013-07-25 00:00:...|       5|       COMPLETE|             299.98|\n",
      "|            11318|2013-07-25 00:00:...|       5|       COMPLETE|             299.95|\n",
      "|            11318|2013-07-25 00:00:...|       5|       COMPLETE|              99.96|\n",
      "|            11318|2013-07-25 00:00:...|       5|       COMPLETE|             299.98|\n",
      "|            11318|2013-07-25 00:00:...|       5|       COMPLETE|             129.99|\n",
      "|             4530|2013-07-25 00:00:...|       7|       COMPLETE|             199.99|\n",
      "|             4530|2013-07-25 00:00:...|       7|       COMPLETE|             299.98|\n",
      "|             4530|2013-07-25 00:00:...|       7|       COMPLETE|              79.95|\n",
      "|             2911|2013-07-25 00:00:...|       8|     PROCESSING|             179.97|\n",
      "|             2911|2013-07-25 00:00:...|       8|     PROCESSING|             299.95|\n",
      "|             2911|2013-07-25 00:00:...|       8|     PROCESSING|             199.92|\n",
      "|             2911|2013-07-25 00:00:...|       8|     PROCESSING|               50.0|\n",
      "+-----------------+--------------------+--------+---------------+-------------------+\n",
      "only showing top 20 rows\n",
      "\n"
     ]
    }
   ],
   "source": [
    "# select(orders.order_id, orders.order_date, orders.order_status, order_items.order_item_subtotal). \\\n",
    "\n",
    "# select(orders['order_id'], orders['order_date'], orders['order_status'], order_items['order_item_subtotal']). \\\n",
    "\n",
    "\n",
    "orders. \\\n",
    "    join(\n",
    "        order_items, \n",
    "        on=orders['order_id'] == order_items['order_item_order_id'],\n",
    "        how='inner'\n",
    "    ). \\\n",
    "    select(orders['*'], order_items['order_item_subtotal']). \\\n",
    "    show()"
   ]
  },
  {
   "cell_type": "code",
   "execution_count": null,
   "id": "f7e7d361",
   "metadata": {},
   "outputs": [],
   "source": []
  },
  {
   "cell_type": "code",
   "execution_count": 13,
   "id": "80c04590",
   "metadata": {},
   "outputs": [],
   "source": [
    "airportCodesPath = \"/home/nghiaht7/data-engineer/data-engineering-essentials/data/airport-codes.csv\""
   ]
  },
  {
   "cell_type": "code",
   "execution_count": 14,
   "id": "9c43b3cb",
   "metadata": {},
   "outputs": [
    {
     "name": "stderr",
     "output_type": "stream",
     "text": [
      "                                                                                \r"
     ]
    }
   ],
   "source": [
    "airportCodes = spark.read.format(\"csv\"). \\\n",
    "            option(\"header\", \"true\"). \\\n",
    "            option(\"inferSchema\", \"true\"). \\\n",
    "            load(airportCodesPath)"
   ]
  },
  {
   "cell_type": "code",
   "execution_count": 15,
   "id": "8c07592e",
   "metadata": {},
   "outputs": [
    {
     "name": "stdout",
     "output_type": "stream",
     "text": [
      "root\n",
      " |-- IATA_CODE: string (nullable = true)\n",
      " |-- CITY: string (nullable = true)\n",
      " |-- STATE: string (nullable = true)\n",
      " |-- COUNTRY: string (nullable = true)\n",
      "\n"
     ]
    }
   ],
   "source": [
    "airportCodes.printSchema()"
   ]
  },
  {
   "cell_type": "code",
   "execution_count": 16,
   "id": "fb3d5c4c",
   "metadata": {},
   "outputs": [
    {
     "name": "stdout",
     "output_type": "stream",
     "text": [
      "+---------+-------------+-----+-------+\n",
      "|IATA_CODE|         CITY|STATE|COUNTRY|\n",
      "+---------+-------------+-----+-------+\n",
      "|      ABE|    Allentown|   PA|    USA|\n",
      "|      ABI|      Abilene|   TX|    USA|\n",
      "|      ABQ|  Albuquerque|   NM|    USA|\n",
      "|      ABR|     Aberdeen|   SD|    USA|\n",
      "|      ABY|       Albany|   GA|    USA|\n",
      "|      ACK|    Nantucket|   MA|    USA|\n",
      "|      ACT|         Waco|   TX|    USA|\n",
      "|      ACV|Arcata/Eureka|   CA|    USA|\n",
      "|      ACY|Atlantic City|   NJ|    USA|\n",
      "|      ADK|         Adak|   AK|    USA|\n",
      "+---------+-------------+-----+-------+\n",
      "only showing top 10 rows\n",
      "\n"
     ]
    }
   ],
   "source": [
    "airportCodes.show(10)"
   ]
  },
  {
   "cell_type": "code",
   "execution_count": 17,
   "id": "2e08045c",
   "metadata": {},
   "outputs": [],
   "source": [
    "airtraffic_path = '/home/nghiaht7/data-engineer/data-engineering-essentials/data/airflights_delay'"
   ]
  },
  {
   "cell_type": "code",
   "execution_count": 18,
   "id": "a80e0d63",
   "metadata": {},
   "outputs": [
    {
     "name": "stderr",
     "output_type": "stream",
     "text": [
      "                                                                                \r"
     ]
    }
   ],
   "source": [
    "airtraffic = spark.read.format(\"csv\"). \\\n",
    "            option(\"header\", \"true\"). \\\n",
    "            option(\"inferSchema\", \"true\"). \\\n",
    "            load(airtraffic_path)"
   ]
  },
  {
   "cell_type": "code",
   "execution_count": 19,
   "id": "7f91d47a",
   "metadata": {},
   "outputs": [
    {
     "name": "stdout",
     "output_type": "stream",
     "text": [
      "root\n",
      " |-- Year: integer (nullable = true)\n",
      " |-- Month: integer (nullable = true)\n",
      " |-- DayofMonth: integer (nullable = true)\n",
      " |-- DayOfWeek: integer (nullable = true)\n",
      " |-- DepTime: string (nullable = true)\n",
      " |-- CRSDepTime: integer (nullable = true)\n",
      " |-- ArrTime: string (nullable = true)\n",
      " |-- CRSArrTime: integer (nullable = true)\n",
      " |-- UniqueCarrier: string (nullable = true)\n",
      " |-- FlightNum: integer (nullable = true)\n",
      " |-- TailNum: string (nullable = true)\n",
      " |-- ActualElapsedTime: string (nullable = true)\n",
      " |-- CRSElapsedTime: integer (nullable = true)\n",
      " |-- AirTime: string (nullable = true)\n",
      " |-- ArrDelay: integer (nullable = true)\n",
      " |-- DepDelay: integer (nullable = true)\n",
      " |-- Origin: string (nullable = true)\n",
      " |-- Dest: string (nullable = true)\n",
      " |-- Distance: integer (nullable = true)\n",
      " |-- TaxiIn: string (nullable = true)\n",
      " |-- TaxiOut: string (nullable = true)\n",
      " |-- Cancelled: integer (nullable = true)\n",
      " |-- CancellationCode: string (nullable = true)\n",
      " |-- Diverted: integer (nullable = true)\n",
      " |-- CarrierDelay: string (nullable = true)\n",
      " |-- WeatherDelay: string (nullable = true)\n",
      " |-- NASDelay: string (nullable = true)\n",
      " |-- SecurityDelay: string (nullable = true)\n",
      " |-- LateAircraftDelay: string (nullable = true)\n",
      " |-- IsArrDelayed: string (nullable = true)\n",
      " |-- IsDepDelayed: string (nullable = true)\n",
      "\n"
     ]
    }
   ],
   "source": [
    "airtraffic.printSchema()"
   ]
  },
  {
   "cell_type": "code",
   "execution_count": 21,
   "id": "259d1264",
   "metadata": {},
   "outputs": [
    {
     "name": "stderr",
     "output_type": "stream",
     "text": [
      "\r",
      "[Stage 16:=============================>                            (1 + 1) / 2]\r",
      "\r",
      "                                                                                \r"
     ]
    },
    {
     "data": {
      "text/html": [
       "<div>\n",
       "<style scoped>\n",
       "    .dataframe tbody tr th:only-of-type {\n",
       "        vertical-align: middle;\n",
       "    }\n",
       "\n",
       "    .dataframe tbody tr th {\n",
       "        vertical-align: top;\n",
       "    }\n",
       "\n",
       "    .dataframe thead th {\n",
       "        text-align: right;\n",
       "    }\n",
       "</style>\n",
       "<table border=\"1\" class=\"dataframe\">\n",
       "  <thead>\n",
       "    <tr style=\"text-align: right;\">\n",
       "      <th></th>\n",
       "      <th>Origin</th>\n",
       "    </tr>\n",
       "  </thead>\n",
       "  <tbody>\n",
       "    <tr>\n",
       "      <th>0</th>\n",
       "      <td>IAD</td>\n",
       "    </tr>\n",
       "    <tr>\n",
       "      <th>1</th>\n",
       "      <td>IAD</td>\n",
       "    </tr>\n",
       "    <tr>\n",
       "      <th>2</th>\n",
       "      <td>IND</td>\n",
       "    </tr>\n",
       "    <tr>\n",
       "      <th>3</th>\n",
       "      <td>IND</td>\n",
       "    </tr>\n",
       "    <tr>\n",
       "      <th>4</th>\n",
       "      <td>IND</td>\n",
       "    </tr>\n",
       "  </tbody>\n",
       "</table>\n",
       "</div>"
      ],
      "text/plain": [
       "  Origin\n",
       "0    IAD\n",
       "1    IAD\n",
       "2    IND\n",
       "3    IND\n",
       "4    IND"
      ]
     },
     "execution_count": 21,
     "metadata": {},
     "output_type": "execute_result"
    }
   ],
   "source": [
    "airtraffic.select(\"Origin\").toPandas().head(5)"
   ]
  },
  {
   "cell_type": "markdown",
   "id": "913e76e2",
   "metadata": {},
   "source": [
    "# * Get number of flights departed from each of the US airport."
   ]
  },
  {
   "cell_type": "code",
   "execution_count": 28,
   "id": "ac559443",
   "metadata": {},
   "outputs": [
    {
     "name": "stderr",
     "output_type": "stream",
     "text": [
      "[Stage 24:===================================================>  (192 + 2) / 200]\r"
     ]
    },
    {
     "name": "stdout",
     "output_type": "stream",
     "text": [
      "+------+-----------+\n",
      "|Origin|FlightCount|\n",
      "+------+-----------+\n",
      "|   LAS|       6817|\n",
      "|   MDW|       6332|\n",
      "|   PHX|       5568|\n",
      "|   BWI|       4578|\n",
      "|   OAK|       3949|\n",
      "|   HOU|       3825|\n",
      "|   DAL|       3525|\n",
      "|   LAX|       3369|\n",
      "|   SAN|       3344|\n",
      "|   MCO|       3310|\n",
      "|   SMF|       2656|\n",
      "|   TPA|       2387|\n",
      "|   BNA|       2286|\n",
      "|   ONT|       2275|\n",
      "|   MCI|       2218|\n",
      "|   SJC|       2197|\n",
      "|   ABQ|       2040|\n",
      "|   STL|       2036|\n",
      "|   PHL|       1714|\n",
      "|   SAT|       1649|\n",
      "+------+-----------+\n",
      "only showing top 20 rows\n",
      "\n"
     ]
    },
    {
     "name": "stderr",
     "output_type": "stream",
     "text": [
      "\r",
      "                                                                                \r"
     ]
    }
   ],
   "source": [
    "result = airtraffic.join(airportCodes, airtraffic.Origin == airportCodes.IATA_CODE).\\\n",
    "    select(airportCodes[\"*\"], airtraffic.Origin). \\\n",
    "    groupBy(\"Origin\").agg(F.count(F.lit(1)).alias(\"FlightCount\")).orderBy(F.col(\"FlightCount\").desc())\n",
    "\n",
    "result.show()"
   ]
  },
  {
   "cell_type": "markdown",
   "id": "1f1b5ff0",
   "metadata": {},
   "source": [
    "# * Get number of flights departed from each of the state."
   ]
  },
  {
   "cell_type": "code",
   "execution_count": 29,
   "id": "0bbd5f7f",
   "metadata": {},
   "outputs": [
    {
     "name": "stderr",
     "output_type": "stream",
     "text": [
      "                                                                                \r"
     ]
    },
    {
     "data": {
      "text/html": [
       "<table border='1'>\n",
       "<tr><th>State</th><th>FlightCount</th></tr>\n",
       "<tr><td>CA</td><td>21657</td></tr>\n",
       "<tr><td>TX</td><td>13034</td></tr>\n",
       "<tr><td>FL</td><td>8393</td></tr>\n",
       "<tr><td>NV</td><td>8089</td></tr>\n",
       "<tr><td>AZ</td><td>6462</td></tr>\n",
       "<tr><td>IL</td><td>6333</td></tr>\n",
       "<tr><td>MD</td><td>4578</td></tr>\n",
       "<tr><td>MO</td><td>4254</td></tr>\n",
       "<tr><td>PA</td><td>2357</td></tr>\n",
       "<tr><td>TN</td><td>2286</td></tr>\n",
       "<tr><td>NM</td><td>2040</td></tr>\n",
       "<tr><td>WA</td><td>1980</td></tr>\n",
       "<tr><td>CO</td><td>1704</td></tr>\n",
       "<tr><td>NY</td><td>1648</td></tr>\n",
       "<tr><td>OK</td><td>1542</td></tr>\n",
       "<tr><td>UT</td><td>1533</td></tr>\n",
       "<tr><td>LA</td><td>1285</td></tr>\n",
       "<tr><td>OH</td><td>1268</td></tr>\n",
       "<tr><td>OR</td><td>1196</td></tr>\n",
       "<tr><td>NC</td><td>1124</td></tr>\n",
       "</table>\n",
       "only showing top 20 rows\n"
      ],
      "text/plain": [
       "+-----+-----------+\n",
       "|State|FlightCount|\n",
       "+-----+-----------+\n",
       "|   CA|      21657|\n",
       "|   TX|      13034|\n",
       "|   FL|       8393|\n",
       "|   NV|       8089|\n",
       "|   AZ|       6462|\n",
       "|   IL|       6333|\n",
       "|   MD|       4578|\n",
       "|   MO|       4254|\n",
       "|   PA|       2357|\n",
       "|   TN|       2286|\n",
       "|   NM|       2040|\n",
       "|   WA|       1980|\n",
       "|   CO|       1704|\n",
       "|   NY|       1648|\n",
       "|   OK|       1542|\n",
       "|   UT|       1533|\n",
       "|   LA|       1285|\n",
       "|   OH|       1268|\n",
       "|   OR|       1196|\n",
       "|   NC|       1124|\n",
       "+-----+-----------+\n",
       "only showing top 20 rows"
      ]
     },
     "execution_count": 29,
     "metadata": {},
     "output_type": "execute_result"
    }
   ],
   "source": [
    "airtraffic.join(airportCodes, airtraffic.Origin == airportCodes.IATA_CODE).\\\n",
    "    select(airportCodes[\"*\"], airtraffic.Origin). \\\n",
    "    groupBy(\"State\").agg(F.count(F.lit(1)).alias(\"FlightCount\")).orderBy(F.col(\"FlightCount\").desc())"
   ]
  },
  {
   "cell_type": "markdown",
   "id": "00b83aba",
   "metadata": {},
   "source": [
    "# * Get the list of airports in the US from which flights are not departed.\n",
    "\n",
    "* This is an example for outer join.\n",
    "* We need to get those airports which are in airport codes but not in 2008 January airtraffic data set.\n",
    "* Based on the side of the airport codes data set, we can say left or right. We will invoke join using airport codes data set and hence we will use left outer join."
   ]
  },
  {
   "cell_type": "code",
   "execution_count": 33,
   "id": "06f4fb9f",
   "metadata": {},
   "outputs": [
    {
     "name": "stderr",
     "output_type": "stream",
     "text": [
      "                                                                                \r"
     ]
    },
    {
     "name": "stdout",
     "output_type": "stream",
     "text": [
      "+---------+-------------+-----+-------+------+\n",
      "|IATA_CODE|         CITY|STATE|COUNTRY|Origin|\n",
      "+---------+-------------+-----+-------+------+\n",
      "|      ABE|    Allentown|   PA|    USA|  null|\n",
      "|      ABI|      Abilene|   TX|    USA|  null|\n",
      "|      ABR|     Aberdeen|   SD|    USA|  null|\n",
      "|      ABY|       Albany|   GA|    USA|  null|\n",
      "|      ACK|    Nantucket|   MA|    USA|  null|\n",
      "|      ACT|         Waco|   TX|    USA|  null|\n",
      "|      ACV|Arcata/Eureka|   CA|    USA|  null|\n",
      "|      ACY|Atlantic City|   NJ|    USA|  null|\n",
      "|      ADK|         Adak|   AK|    USA|  null|\n",
      "|      ADQ|       Kodiak|   AK|    USA|  null|\n",
      "|      AEX|   Alexandria|   LA|    USA|  null|\n",
      "|      AGS|      Augusta|   GA|    USA|  null|\n",
      "|      AKN|  King Salmon|   AK|    USA|  null|\n",
      "|      ALO|     Waterloo|   IA|    USA|  null|\n",
      "|      ANC|    Anchorage|   AK|    USA|  null|\n",
      "|      APN|       Alpena|   MI|    USA|  null|\n",
      "|      ASE|        Aspen|   CO|    USA|  null|\n",
      "|      ATL|      Atlanta|   GA|    USA|  null|\n",
      "|      ATW|     Appleton|   WI|    USA|  null|\n",
      "|      AVL|    Asheville|   NC|    USA|  null|\n",
      "+---------+-------------+-----+-------+------+\n",
      "only showing top 20 rows\n",
      "\n"
     ]
    }
   ],
   "source": [
    "airportCodes. \\\n",
    "    join(airtraffic, F.col(\"IATA_CODE\") == F.col(\"Origin\"), \"left\"). \\\n",
    "    filter(\"Origin IS NULL\"). \\\n",
    "    select(airportCodes[\"*\"], F.col(\"Origin\")). \\\n",
    "    show()"
   ]
  },
  {
   "cell_type": "code",
   "execution_count": 34,
   "id": "704bf8f9",
   "metadata": {},
   "outputs": [
    {
     "data": {
      "text/plain": [
       "240"
      ]
     },
     "execution_count": 34,
     "metadata": {},
     "output_type": "execute_result"
    }
   ],
   "source": [
    "airportCodes. \\\n",
    "    join(airtraffic, F.col(\"IATA_CODE\") == F.col(\"Origin\"), \"left\"). \\\n",
    "    filter(\"Origin IS NULL\"). \\\n",
    "    select(airportCodes[\"*\"], F.col(\"Origin\")). \\\n",
    "    count()"
   ]
  },
  {
   "cell_type": "markdown",
   "id": "5561ed63",
   "metadata": {},
   "source": [
    "# * Check if there are any origins in airtraffic data which do not have record in airport-codes.\n",
    "\n",
    "\n",
    "* This is an example for outer join.\n",
    "* We need to get those airports which are in Origin field in January 2008 airtraffic data set but not in airport-codes. We need to consider all the valid records from airport codes.\n",
    "* Based on the side of the airtraffic data set, we can say left or right. We will be invoking join using airtraffic data set and hence we will use left outer join.\n",
    "* We will also apply distinct on Origin before performing left outer join."
   ]
  },
  {
   "cell_type": "code",
   "execution_count": 42,
   "id": "b7f7995c",
   "metadata": {},
   "outputs": [
    {
     "name": "stderr",
     "output_type": "stream",
     "text": [
      "                                                                                \r"
     ]
    },
    {
     "data": {
      "text/plain": [
       "0"
      ]
     },
     "execution_count": 42,
     "metadata": {},
     "output_type": "execute_result"
    }
   ],
   "source": [
    "airtraffic.select(\"Origin\").distinct(). \\\n",
    "    join(airportCodes, F.col(\"Origin\") == F.col(\"IATA_CODE\"), \"left\"). \\\n",
    "    select(airportCodes[\"*\"], F.col(\"Origin\")). \\\n",
    "    filter(\"IATA_CODE IS NULL\"). \\\n",
    "    count()"
   ]
  },
  {
   "cell_type": "markdown",
   "id": "4c24340c",
   "metadata": {},
   "source": [
    "# * Get the total number of flights from the airports that do not contain entries in airport-codes."
   ]
  },
  {
   "cell_type": "code",
   "execution_count": 44,
   "id": "b24923b7",
   "metadata": {},
   "outputs": [
    {
     "name": "stdout",
     "output_type": "stream",
     "text": [
      "+----+-----+----------+------+----+----------+---------+----+-----+-------+\n",
      "|Year|Month|DayOfMonth|Origin|Dest|CRSDepTime|IATA_CODE|CITY|STATE|COUNTRY|\n",
      "+----+-----+----------+------+----+----------+---------+----+-----+-------+\n",
      "+----+-----+----------+------+----+----------+---------+----+-----+-------+\n",
      "\n"
     ]
    }
   ],
   "source": [
    "airtraffic. \\\n",
    "    join(airportCodes, airtraffic[\"Origin\"] == airportCodes[\"IATA_CODE\"], \"left\"). \\\n",
    "    filter(\"IATA_CODE IS NULL\"). \\\n",
    "    select(airtraffic[\"Year\"], airtraffic[\"Month\"], airtraffic[\"DayOfMonth\"], \n",
    "           airtraffic[\"Origin\"], airtraffic[\"Dest\"], airtraffic[\"CRSDepTime\"], \n",
    "           airportCodes[\"*\"]\n",
    "          ). \\\n",
    "    show()"
   ]
  },
  {
   "cell_type": "code",
   "execution_count": null,
   "id": "c5724253",
   "metadata": {},
   "outputs": [],
   "source": []
  },
  {
   "cell_type": "code",
   "execution_count": null,
   "id": "6f772a1c",
   "metadata": {},
   "outputs": [],
   "source": []
  },
  {
   "cell_type": "code",
   "execution_count": null,
   "id": "11d36d4a",
   "metadata": {},
   "outputs": [],
   "source": []
  },
  {
   "cell_type": "code",
   "execution_count": null,
   "id": "2611be5c",
   "metadata": {},
   "outputs": [],
   "source": []
  },
  {
   "cell_type": "markdown",
   "id": "fa63ce75",
   "metadata": {},
   "source": [
    "# * Get the total number of flights per airport that do not contain entries in airport-codes.\n",
    "\n",
    "* This is an example for outer join.\n",
    "* We need to get number of flights per airport from the 2008 January airtraffic data which do not have entries in airport-codes.\n",
    "* Based on the side of the airtraffic data set, we can say left or right. We will be invoking join using airtraffic and hence we will use left outer join..\n",
    "* We will be peforming join first and then we will aggregate to get number of flights from the concerned airports per airport.\n",
    "* In this case will get total number of flights per airport."
   ]
  },
  {
   "cell_type": "code",
   "execution_count": 46,
   "id": "83a2146c",
   "metadata": {},
   "outputs": [
    {
     "name": "stderr",
     "output_type": "stream",
     "text": [
      "[Stage 103:==================================================>  (191 + 2) / 200]\r"
     ]
    },
    {
     "name": "stdout",
     "output_type": "stream",
     "text": [
      "+------+-----------+\n",
      "|Origin|FlightCount|\n",
      "+------+-----------+\n",
      "+------+-----------+\n",
      "\n"
     ]
    },
    {
     "name": "stderr",
     "output_type": "stream",
     "text": [
      "\r",
      "                                                                                \r"
     ]
    }
   ],
   "source": [
    "from pyspark.sql.functions import count, col, lit\n",
    "\n",
    "airtraffic. \\\n",
    "    join(airportCodes, airtraffic[\"Origin\"] == airportCodes[\"IATA_CODE\"], \"left\"). \\\n",
    "    filter(\"IATA_CODE IS NULL\"). \\\n",
    "    groupBy(\"Origin\"). \\\n",
    "    agg(count(lit(1)).alias(\"FlightCount\")). \\\n",
    "    orderBy(col(\"FlightCount\").desc()). \\\n",
    "    show()"
   ]
  },
  {
   "cell_type": "code",
   "execution_count": null,
   "id": "2accdece",
   "metadata": {},
   "outputs": [],
   "source": []
  }
 ],
 "metadata": {
  "kernelspec": {
   "display_name": "Python 3 (ipykernel)",
   "language": "python",
   "name": "python3"
  },
  "language_info": {
   "codemirror_mode": {
    "name": "ipython",
    "version": 3
   },
   "file_extension": ".py",
   "mimetype": "text/x-python",
   "name": "python",
   "nbconvert_exporter": "python",
   "pygments_lexer": "ipython3",
   "version": "3.8.10"
  }
 },
 "nbformat": 4,
 "nbformat_minor": 5
}
