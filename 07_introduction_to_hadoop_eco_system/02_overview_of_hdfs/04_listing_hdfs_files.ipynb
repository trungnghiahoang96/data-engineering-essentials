{
 "cells": [
  {
   "cell_type": "markdown",
   "metadata": {},
   "source": [
    "## Listing HDFS Files\n",
    "\n",
    "Now let us walk through different options we have with hdfs `ls` command to list the files.\n",
    "* We can get usage by running `hdfs dfs -usage ls`."
   ]
  },
  {
   "cell_type": "code",
   "execution_count": 1,
   "metadata": {},
   "outputs": [
    {
     "name": "stdout",
     "output_type": "stream",
     "text": [
      "Usage: hadoop fs [generic options] -ls [-C] [-d] [-h] [-q] [-R] [-t] [-S] [-r] [-u] [-e] [<path> ...]\n"
     ]
    }
   ],
   "source": [
    "%%sh\n",
    "\n",
    "hdfs dfs -usage ls"
   ]
  },
  {
   "cell_type": "markdown",
   "metadata": {},
   "source": [
    "* We can get help using `hdfs dfs -help ls`"
   ]
  },
  {
   "cell_type": "code",
   "execution_count": null,
   "metadata": {},
   "outputs": [],
   "source": [
    "%%sh\n",
    "\n",
    "hdfs dfs -help ls"
   ]
  },
  {
   "cell_type": "markdown",
   "metadata": {},
   "source": [
    "* Let us list all the files in **/public/nyse_all/nyse_data** folder. It is one of the public data sets that are available under **/public**. By default files and folders are sorted in ascending order by name."
   ]
  },
  {
   "cell_type": "code",
   "execution_count": 3,
   "metadata": {},
   "outputs": [
    {
     "name": "stdout",
     "output_type": "stream",
     "text": [
      "Found 6 items\n",
      "drwxr-xr-x   - nghiaht7 supergroup          0 2021-08-24 17:10 /public/retail_db/categories\n",
      "drwxr-xr-x   - nghiaht7 supergroup          0 2021-08-24 17:10 /public/retail_db/customers\n",
      "drwxr-xr-x   - nghiaht7 supergroup          0 2021-08-24 17:10 /public/retail_db/order_items\n",
      "drwxr-xr-x   - nghiaht7 supergroup          0 2021-08-24 17:10 /public/retail_db/orders\n",
      "-rw-r--r--   1 nghiaht7 supergroup         60 2021-08-24 17:10 /public/retail_db/part-00000\n",
      "drwxr-xr-x   - nghiaht7 supergroup          0 2021-08-24 17:10 /public/retail_db/products\n"
     ]
    }
   ],
   "source": [
    "%%sh\n",
    "\n",
    "hdfs dfs -ls /public/retail_db"
   ]
  },
  {
   "cell_type": "code",
   "execution_count": 4,
   "metadata": {},
   "outputs": [
    {
     "name": "stdout",
     "output_type": "stream",
     "text": [
      "Found 6 items\n",
      "drwxr-xr-x   - nghiaht7 supergroup          0 2021-08-24 17:10 /public/retail_db/products\n",
      "-rw-r--r--   1 nghiaht7 supergroup         60 2021-08-24 17:10 /public/retail_db/part-00000\n",
      "drwxr-xr-x   - nghiaht7 supergroup          0 2021-08-24 17:10 /public/retail_db/orders\n",
      "drwxr-xr-x   - nghiaht7 supergroup          0 2021-08-24 17:10 /public/retail_db/order_items\n",
      "drwxr-xr-x   - nghiaht7 supergroup          0 2021-08-24 17:10 /public/retail_db/customers\n",
      "drwxr-xr-x   - nghiaht7 supergroup          0 2021-08-24 17:10 /public/retail_db/categories\n"
     ]
    }
   ],
   "source": [
    "%%sh\n",
    "\n",
    "hdfs dfs -ls -r /public/retail_db"
   ]
  },
  {
   "cell_type": "markdown",
   "metadata": {},
   "source": [
    "* We can sort the files and directories by time using `-t` option. By default you will see latest files at top. We can reverse it by using `-t -r`."
   ]
  },
  {
   "cell_type": "code",
   "execution_count": 7,
   "metadata": {},
   "outputs": [
    {
     "name": "stdout",
     "output_type": "stream",
     "text": [
      "Found 6 items\n",
      "drwxr-xr-x   - nghiaht7 supergroup          0 2021-08-24 17:10 /public/retail_db/orders\n",
      "-rw-r--r--   1 nghiaht7 supergroup         60 2021-08-24 17:10 /public/retail_db/part-00000\n",
      "drwxr-xr-x   - nghiaht7 supergroup          0 2021-08-24 17:10 /public/retail_db/order_items\n",
      "drwxr-xr-x   - nghiaht7 supergroup          0 2021-08-24 17:10 /public/retail_db/categories\n",
      "drwxr-xr-x   - nghiaht7 supergroup          0 2021-08-24 17:10 /public/retail_db/products\n",
      "drwxr-xr-x   - nghiaht7 supergroup          0 2021-08-24 17:10 /public/retail_db/customers\n"
     ]
    }
   ],
   "source": [
    "%%sh\n",
    "\n",
    "hdfs dfs -ls -t /public/retail_db"
   ]
  },
  {
   "cell_type": "code",
   "execution_count": 8,
   "metadata": {},
   "outputs": [
    {
     "name": "stdout",
     "output_type": "stream",
     "text": [
      "Found 6 items\n",
      "drwxr-xr-x   - nghiaht7 supergroup          0 2021-08-24 17:10 /public/retail_db/customers\n",
      "drwxr-xr-x   - nghiaht7 supergroup          0 2021-08-24 17:10 /public/retail_db/products\n",
      "drwxr-xr-x   - nghiaht7 supergroup          0 2021-08-24 17:10 /public/retail_db/categories\n",
      "drwxr-xr-x   - nghiaht7 supergroup          0 2021-08-24 17:10 /public/retail_db/order_items\n",
      "-rw-r--r--   1 nghiaht7 supergroup         60 2021-08-24 17:10 /public/retail_db/part-00000\n",
      "drwxr-xr-x   - nghiaht7 supergroup          0 2021-08-24 17:10 /public/retail_db/orders\n"
     ]
    }
   ],
   "source": [
    "%%sh\n",
    "\n",
    "hdfs dfs -ls -t -r /public/retail_db"
   ]
  },
  {
   "cell_type": "markdown",
   "metadata": {},
   "source": [
    "* We can sort the files and directories by size using `-S`. By default, the files will be sorted in descending order by size. We can reverse the sorting order using `-S -r`."
   ]
  },
  {
   "cell_type": "code",
   "execution_count": 9,
   "metadata": {},
   "outputs": [
    {
     "name": "stdout",
     "output_type": "stream",
     "text": [
      "Found 6 items\n",
      "-rw-r--r--   1 nghiaht7 supergroup         60 2021-08-24 17:10 /public/retail_db/part-00000\n",
      "drwxr-xr-x   - nghiaht7 supergroup          0 2021-08-24 17:10 /public/retail_db/categories\n",
      "drwxr-xr-x   - nghiaht7 supergroup          0 2021-08-24 17:10 /public/retail_db/customers\n",
      "drwxr-xr-x   - nghiaht7 supergroup          0 2021-08-24 17:10 /public/retail_db/order_items\n",
      "drwxr-xr-x   - nghiaht7 supergroup          0 2021-08-24 17:10 /public/retail_db/orders\n",
      "drwxr-xr-x   - nghiaht7 supergroup          0 2021-08-24 17:10 /public/retail_db/products\n"
     ]
    }
   ],
   "source": [
    "%%sh\n",
    "\n",
    "hdfs dfs -ls -S /public/retail_db"
   ]
  },
  {
   "cell_type": "code",
   "execution_count": 10,
   "metadata": {},
   "outputs": [
    {
     "name": "stdout",
     "output_type": "stream",
     "text": [
      "Found 6 items\n",
      "drwxr-xr-x   - nghiaht7 supergroup          0 2021-08-24 17:10 /public/retail_db/categories\n",
      "drwxr-xr-x   - nghiaht7 supergroup          0 2021-08-24 17:10 /public/retail_db/customers\n",
      "drwxr-xr-x   - nghiaht7 supergroup          0 2021-08-24 17:10 /public/retail_db/order_items\n",
      "drwxr-xr-x   - nghiaht7 supergroup          0 2021-08-24 17:10 /public/retail_db/orders\n",
      "drwxr-xr-x   - nghiaht7 supergroup          0 2021-08-24 17:10 /public/retail_db/products\n",
      "-rw-r--r--   1 nghiaht7 supergroup         60 2021-08-24 17:10 /public/retail_db/part-00000\n"
     ]
    }
   ],
   "source": [
    "%%sh\n",
    "\n",
    "hdfs dfs -ls -S -r /public/retail_db"
   ]
  },
  {
   "cell_type": "code",
   "execution_count": 11,
   "metadata": {},
   "outputs": [
    {
     "name": "stdout",
     "output_type": "stream",
     "text": [
      "Found 6 items\n",
      "drwxr-xr-x   - nghiaht7 supergroup          0 2021-08-24 17:10 /public/retail_db/categories\n",
      "drwxr-xr-x   - nghiaht7 supergroup          0 2021-08-24 17:10 /public/retail_db/customers\n",
      "drwxr-xr-x   - nghiaht7 supergroup          0 2021-08-24 17:10 /public/retail_db/order_items\n",
      "drwxr-xr-x   - nghiaht7 supergroup          0 2021-08-24 17:10 /public/retail_db/orders\n",
      "-rw-r--r--   1 nghiaht7 supergroup         60 2021-08-24 17:10 /public/retail_db/part-00000\n",
      "drwxr-xr-x   - nghiaht7 supergroup          0 2021-08-24 17:10 /public/retail_db/products\n"
     ]
    }
   ],
   "source": [
    "%%sh\n",
    "\n",
    "hdfs dfs -ls -h /public/retail_db"
   ]
  },
  {
   "cell_type": "code",
   "execution_count": 12,
   "metadata": {},
   "outputs": [
    {
     "name": "stdout",
     "output_type": "stream",
     "text": [
      "Found 6 items\n",
      "drwxr-xr-x   - nghiaht7 supergroup          0 2021-08-24 17:10 /public/retail_db/orders\n",
      "-rw-r--r--   1 nghiaht7 supergroup         60 2021-08-24 17:10 /public/retail_db/part-00000\n",
      "drwxr-xr-x   - nghiaht7 supergroup          0 2021-08-24 17:10 /public/retail_db/order_items\n",
      "drwxr-xr-x   - nghiaht7 supergroup          0 2021-08-24 17:10 /public/retail_db/categories\n",
      "drwxr-xr-x   - nghiaht7 supergroup          0 2021-08-24 17:10 /public/retail_db/products\n",
      "drwxr-xr-x   - nghiaht7 supergroup          0 2021-08-24 17:10 /public/retail_db/customers\n"
     ]
    }
   ],
   "source": [
    "%%sh\n",
    "\n",
    "hdfs dfs -ls -h -t /public/retail_db"
   ]
  },
  {
   "cell_type": "code",
   "execution_count": 13,
   "metadata": {},
   "outputs": [
    {
     "name": "stdout",
     "output_type": "stream",
     "text": [
      "Found 6 items\n",
      "-rw-r--r--   1 nghiaht7 supergroup         60 2021-08-24 17:10 /public/retail_db/part-00000\n",
      "drwxr-xr-x   - nghiaht7 supergroup          0 2021-08-24 17:10 /public/retail_db/categories\n",
      "drwxr-xr-x   - nghiaht7 supergroup          0 2021-08-24 17:10 /public/retail_db/customers\n",
      "drwxr-xr-x   - nghiaht7 supergroup          0 2021-08-24 17:10 /public/retail_db/order_items\n",
      "drwxr-xr-x   - nghiaht7 supergroup          0 2021-08-24 17:10 /public/retail_db/orders\n",
      "drwxr-xr-x   - nghiaht7 supergroup          0 2021-08-24 17:10 /public/retail_db/products\n"
     ]
    }
   ],
   "source": [
    "%%sh\n",
    "\n",
    "hdfs dfs -ls -h -S /public/retail_db"
   ]
  },
  {
   "cell_type": "code",
   "execution_count": 14,
   "metadata": {},
   "outputs": [
    {
     "name": "stdout",
     "output_type": "stream",
     "text": [
      "Found 6 items\n",
      "drwxr-xr-x   - nghiaht7 supergroup          0 2021-08-24 17:10 /public/retail_db/categories\n",
      "drwxr-xr-x   - nghiaht7 supergroup          0 2021-08-24 17:10 /public/retail_db/customers\n",
      "drwxr-xr-x   - nghiaht7 supergroup          0 2021-08-24 17:10 /public/retail_db/order_items\n",
      "drwxr-xr-x   - nghiaht7 supergroup          0 2021-08-24 17:10 /public/retail_db/orders\n",
      "drwxr-xr-x   - nghiaht7 supergroup          0 2021-08-24 17:10 /public/retail_db/products\n",
      "-rw-r--r--   1 nghiaht7 supergroup         60 2021-08-24 17:10 /public/retail_db/part-00000\n"
     ]
    }
   ],
   "source": [
    "%%sh\n",
    "\n",
    "hdfs dfs -ls -h -S -r /public/retail_db"
   ]
  },
  {
   "cell_type": "code",
   "execution_count": null,
   "metadata": {},
   "outputs": [],
   "source": []
  }
 ],
 "metadata": {
  "kernelspec": {
   "display_name": "Python 3 (ipykernel)",
   "language": "python",
   "name": "python3"
  },
  "language_info": {
   "codemirror_mode": {
    "name": "ipython",
    "version": 3
   },
   "file_extension": ".py",
   "mimetype": "text/x-python",
   "name": "python",
   "nbconvert_exporter": "python",
   "pygments_lexer": "ipython3",
   "version": "3.8.10"
  }
 },
 "nbformat": 4,
 "nbformat_minor": 4
}
