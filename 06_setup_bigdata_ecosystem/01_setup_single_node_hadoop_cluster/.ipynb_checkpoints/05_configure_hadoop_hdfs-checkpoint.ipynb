{
 "cells": [
  {
   "cell_type": "markdown",
   "metadata": {},
   "source": [
    "## Configure Hadoop HDFS\n",
    "\n",
    "Let us configure HDFS as part of setting up single node cluster. We will start and validate HDFS as part of next topic.\n",
    "\n",
    "* Here are the contents of **/opt/hadoop/etc/hadoop/core-site.xml**.\n",
    "\n",
    "```shell\n",
    "<configuration>\n",
    "    <property>\n",
    "        <name>fs.defaultFS</name>\n",
    "        <value>hdfs://localhost:9000</value>\n",
    "    </property>\n",
    "</configuration>\n",
    "```\n",
    "\n",
    "* Here are the contents of **/opt/hadoop/etc/hadoop/hdfs-site.xml**.\n",
    "\n",
    "```shell\n",
    "<configuration>\n",
    "    <property>\n",
    "        <name>dfs.namenode.name.dir</name>\n",
    "        <value>/opt/hadoop/dfs/name</value>\n",
    "    </property>\n",
    "    <property>\n",
    "        <name>dfs.namenode.checkpoint.dir</name>\n",
    "        <value>/opt/hadoop/dfs/namesecondary</value>\n",
    "    </property>\n",
    "    <property>\n",
    "        <name>dfs.datanode.data.dir</name>\n",
    "        <value>/opt/hadoop/dfs/data</value>\n",
    "    </property>\n",
    "    <property>\n",
    "        <name>dfs.replication</name>\n",
    "        <value>1</value>\n",
    "    </property>\n",
    "</configuration>\n",
    "```\n",
    "\n",
    "* Make sure to validate the JDK location to set **JAVA_HOME**. If you could not find check for JDK folders using `find` command - `find /usr/lib/jvm -name javac`\n",
    "\n",
    "```shell\n",
    "ls -ltr /usr/lib/jvm/java-1.8.0-openjdk-amd64\n",
    "```\n",
    "\n",
    "* Make sure to setup environment variables under **.profile**. Append below export statements to existing .profile. Make sure to restart the session once profile is updated.\n",
    "\n",
    "```shell\n",
    "export HADOOP_HOME=/opt/hadoop\n",
    "export PATH=$PATH:$HADOOP_HOME/bin:$HADOOP_HOME/sbin\n",
    "\n",
    "export JAVA_HOME=/usr/lib/jvm/java-1.8.0-openjdk-amd64\n",
    "```\n",
    "\n",
    "* Update JAVA_HOME in **/opt/hadoop/etc/hadoop/hadoop-env.sh**. Here are the contents of the file after deleting all commented lines.\n",
    "\n",
    "```shell\n",
    "export JAVA_HOME=/usr/lib/jvm/java-1.8.0-openjdk-amd64\n",
    "export HADOOP_OS_TYPE=${HADOOP_OS_TYPE:-$(uname -s)}\n",
    "```\n",
    "\n",
    "* Format HDFS so that directories for Namenode, Secondary Namenode as well as Datanode are created.\n",
    "\n",
    "```shell\n",
    "hdfs namenode -format\n",
    "ls -ltr /opt/hadoop/dfs/\n",
    "```"
   ]
  },
  {
   "cell_type": "code",
   "execution_count": 9,
   "metadata": {},
   "outputs": [
    {
     "name": "stdout",
     "output_type": "stream",
     "text": [
      "/home/nghiaht7/.sdkman/candidates/hadoop/current/dfs:\r\n",
      "namenode\r\n",
      "\r\n",
      "/home/nghiaht7/.sdkman/candidates/hadoop/current/dfs/namenode:\r\n",
      "current\r\n",
      "\r\n",
      "/home/nghiaht7/.sdkman/candidates/hadoop/current/dfs/namenode/current:\r\n",
      "fsimage_0000000000000000000\t seen_txid\r\n",
      "fsimage_0000000000000000000.md5  VERSION\r\n"
     ]
    }
   ],
   "source": [
    "!ls -R $HADOOP_HOME/dfs"
   ]
  },
  {
   "cell_type": "code",
   "execution_count": 5,
   "metadata": {},
   "outputs": [],
   "source": [
    "#thay /opt/hadoop  = real $HADOOP_HOME (~/.sdkman/candidates/hadoop/current)"
   ]
  },
  {
   "cell_type": "markdown",
   "metadata": {},
   "source": [
    "**my config**"
   ]
  },
  {
   "cell_type": "markdown",
   "metadata": {},
   "source": [
    "* Here are the contents of **$HADOOP_HOME/etc/hadoop/core-site.xml**.\n",
    "\n",
    "```shell\n",
    "<configuration>\n",
    "    <property>\n",
    "        <name>fs.defaultFS</name>\n",
    "        <value>hdfs://0.0.0.0:9000</value>\n",
    "    </property>\n",
    "</configuration>\n",
    "```\n",
    "\n",
    "* Here are the contents of **$HADOOP_HOME/etc/hadoop/hdfs-site.xml**.\n",
    "\n",
    "```shell\n",
    "<configuration>\n",
    "    <property>\n",
    "        <name>dfs.namenode.name.dir</name>\n",
    "        <value>file:/home/nghiaht7/.sdkman/candidates/hadoop/current/dfs/namenode</value>\n",
    "    </property>\n",
    "    <property>\n",
    "        <name>dfs.namenode.checkpoint.dir</name>\n",
    "        <value>file:/home/nghiaht7/.sdkman/candidates/hadoop/current/dfs/namesecondary</value>\n",
    "\n",
    "    </property>\n",
    "    <property>\n",
    "        <name>dfs.datanode.data.dir</name>\n",
    "        <value>file:/home/nghiaht7/.sdkman/candidates/hadoop/current/dfs/datanode</value>\n",
    "    </property>\n",
    "    <property>\n",
    "        <name>dfs.replication</name>\n",
    "        <value>1</value>\n",
    "    </property>\n",
    "\n",
    "<!-- config for not need: hdfs dfsadmin -safemode leave-->\n",
    "    <property>\n",
    "        <name>dfs.safemode.threshold.pct</name>\n",
    "        <value>0</value>\n",
    "    </property>\n",
    "</configuration>\n",
    "```\n"
   ]
  },
  {
   "cell_type": "code",
   "execution_count": null,
   "metadata": {},
   "outputs": [],
   "source": []
  }
 ],
 "metadata": {
  "kernelspec": {
   "display_name": "Python 3 (ipykernel)",
   "language": "python",
   "name": "python3"
  },
  "language_info": {
   "codemirror_mode": {
    "name": "ipython",
    "version": 3
   },
   "file_extension": ".py",
   "mimetype": "text/x-python",
   "name": "python",
   "nbconvert_exporter": "python",
   "pygments_lexer": "ipython3",
   "version": "3.8.10"
  }
 },
 "nbformat": 4,
 "nbformat_minor": 4
}
