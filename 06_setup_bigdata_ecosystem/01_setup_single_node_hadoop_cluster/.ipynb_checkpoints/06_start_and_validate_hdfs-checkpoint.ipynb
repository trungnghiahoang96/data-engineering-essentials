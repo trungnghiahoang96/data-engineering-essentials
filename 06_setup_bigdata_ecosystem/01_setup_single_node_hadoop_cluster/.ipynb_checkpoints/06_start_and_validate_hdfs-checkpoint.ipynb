{
 "cells": [
  {
   "cell_type": "markdown",
   "metadata": {},
   "source": [
    "## Start and Validate HDFS\n",
    "\n",
    "Let us start HDFS and also validate by copying some files\n",
    "* Ensure environment variables such as PATH are updated with bin as well as sbin folder of Hadooop.\n",
    "\n",
    "```shell\n",
    "echo $PATH\n",
    "```\n",
    "\n",
    "* We also need to have password less login setup with in the server using the same user who owns **/opt/hadoop** folder.\n",
    "\n",
    "```\n",
    "ssh ${USER}@localhost\n",
    "```\n",
    "\n",
    "* We can start HDFS components using **start-dfs.sh**.\n",
    "\n",
    "```shell\n",
    "start-dfs.sh\n",
    "```\n",
    "\n",
    "* Run `jps` command to ensure Namenode, Secondary Namenode and Datanode are running.\n",
    "* Create /user/centos folder structure or folder structure of your choice.\n",
    "\n",
    "```shell\n",
    "hdfs dfs -mkdir -p /user/${USER}\n",
    "hdfs dfs -put /opt/hadoop/etc/hadoop /user/${USER}\n",
    "hdfs dfs -cat /user/${USER}/hadoop/core-site.xml\n",
    "hdfs dfs -rm -R -skipTrash /user/${USER}/hadoop\n",
    "hdfs dfs -ls /user/${USER}\n",
    "```"
   ]
  },
  {
   "cell_type": "code",
   "execution_count": 2,
   "metadata": {},
   "outputs": [],
   "source": [
    "!hdfs dfs -ls /user/${USER}\n"
   ]
  },
  {
   "cell_type": "code",
   "execution_count": 1,
   "metadata": {},
   "outputs": [
    {
     "name": "stdout",
     "output_type": "stream",
     "text": [
      "Found 1 items\n",
      "drwxr-xr-x   - nghiaht7 supergroup          0 2021-08-24 17:06 /user\n"
     ]
    }
   ],
   "source": [
    "!hdfs dfs -ls /"
   ]
  },
  {
   "cell_type": "code",
   "execution_count": null,
   "metadata": {},
   "outputs": [],
   "source": []
  }
 ],
 "metadata": {
  "kernelspec": {
   "display_name": "Python 3 (ipykernel)",
   "language": "python",
   "name": "python3"
  },
  "language_info": {
   "codemirror_mode": {
    "name": "ipython",
    "version": 3
   },
   "file_extension": ".py",
   "mimetype": "text/x-python",
   "name": "python",
   "nbconvert_exporter": "python",
   "pygments_lexer": "ipython3",
   "version": "3.8.10"
  }
 },
 "nbformat": 4,
 "nbformat_minor": 4
}
