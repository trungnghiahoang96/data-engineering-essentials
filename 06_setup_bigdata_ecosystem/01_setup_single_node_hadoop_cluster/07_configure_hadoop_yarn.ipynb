{
 "cells": [
  {
   "cell_type": "markdown",
   "metadata": {},
   "source": [
    "## Configure Hadoop YARN\n",
    "\n",
    "Let us configure YARN as part of setting up single node cluster. We will start and validate YARN as part of next topic.\n",
    "\n",
    "* Here are the contents of **/opt/hadoop/etc/hadoop/yarn-site.xml**.\n",
    "\n",
    "```shell\n",
    "<configuration>\n",
    "    <property>\n",
    "        <name>yarn.nodemanager.aux-services</name>\n",
    "        <value>mapreduce_shuffle</value>\n",
    "    </property>\n",
    "    <property>\n",
    "        <name>yarn.nodemanager.env-whitelist</name>\n",
    "        <value>JAVA_HOME,HADOOP_COMMON_HOME,HADOOP_HDFS_HOME,HADOOP_CONF_DIR,CLASSPATH_PREPEND_DISTCACHE,HADOOP_YARN_HOME,HADOOP_MAPRED_HOME</value>\n",
    "    </property>\n",
    "</configuration>\n",
    "```\n",
    "\n",
    "* Here are the contents of **/opt/hadoop/etc/hadoop/mapred-site.xml**.\n",
    "```shell\n",
    "<configuration>\n",
    "    <property>\n",
    "        <name>mapreduce.framework.name</name>\n",
    "        <value>yarn</value>\n",
    "    </property>\n",
    "    <property>\n",
    "        <name>mapreduce.application.classpath</name>\n",
    "        <value>$HADOOP_MAPRED_HOME/share/hadoop/mapreduce/*:$HADOOP_MAPRED_HOME/share/hadoop/mapreduce/lib/*</value>\n",
    "    </property>\n",
    "</configuration>\n",
    "```"
   ]
  },
  {
   "cell_type": "code",
   "execution_count": 2,
   "metadata": {},
   "outputs": [],
   "source": [
    "# change $HADOOP_MAPRED_HOME  --> $HADOOP_HOME ---> sai vì có thể mình cài qua sdk man nên path \n",
    "# $HADOOP_MAPRED_HOME cần làm lại\n",
    "\n"
   ]
  },
  {
   "cell_type": "markdown",
   "metadata": {},
   "source": [
    "**my config**"
   ]
  },
  {
   "cell_type": "markdown",
   "metadata": {},
   "source": [
    "* Here are the contents of **$HADOOP_HOME/etc/hadoop/yarn-site.xml**.\n",
    "\n",
    "**using this**\n",
    "https://stackoverflow.com/questions/44751407/yarn-could-not-find-or-load-main-class-org-apache-hadoop-mapreduce-v2-app-mrapp\n",
    "\n",
    "\n",
    "\n",
    "```shell\n",
    "<configuration>\n",
    "<!-- Site specific YARN configuration properties -->\n",
    "    <property>\n",
    "        <name>yarn.nodemanager.aux-services</name>\n",
    "        <value>mapreduce_shuffle</value>\n",
    "    </property>\n",
    "    <property>\n",
    "        <name>yarn.nodemanager.env-whitelist</name>\n",
    "        <value>JAVA_HOME,HADOOP_COMMON_HOME,HADOOP_HDFS_HOME,HADOOP_CONF_DIR,CLASSPATH_PREPEND_DISTCACHE,HADOOP_YARN_HOME,HADOOP_MAPRED_HOME</value>\n",
    "    </property>\n",
    "\n",
    " <property>\n",
    "    <name>yarn.application.classpath</name>\n",
    "    <value>\n",
    "/home/nghiaht7/.sdkman/candidates/hadoop/current/etc/hadoop:/home/nghiaht7/.sdkman/candidates/hadoop/current/share/hadoop/common/lib/*:/home/nghiaht7/.sdkman/candidates/hadoop/current/share/hadoop/common/*:/home/nghiaht7/.sdkman/candidates/hadoop/current/share/hadoop/hdfs:/home/nghiaht7/.sdkman/candidates/hadoop/current/share/hadoop/hdfs/lib/*:/home/nghiaht7/.sdkman/candidates/hadoop/current/share/hadoop/hdfs/*:/home/nghiaht7/.sdkman/candidates/hadoop/current/share/hadoop/mapreduce/*:/home/nghiaht7/.sdkman/candidates/hadoop/current/share/hadoop/yarn:/home/nghiaht7/.sdkman/candidates/hadoop/current/share/hadoop/yarn/lib/*:/home/nghiaht7/.sdkman/candidates/hadoop/current/share/hadoop/yarn/*\n",
    "    <value>\n",
    " </property>\n",
    "</configuration>\n",
    "```\n",
    "\n",
    "\n",
    "************************************************************************************************************************************************************************************************************************************\n",
    "\n",
    "\n",
    "* Here are the contents of **$HADOOP_HOME/etc/hadoop/mapred-site.xml**.\n",
    "\n",
    "\n",
    "\n",
    "```shell\n",
    "<configuration>\n",
    " <property>\n",
    "      <name>mapreduce.framework.name</name>\n",
    "      <value>yarn</value>\n",
    "  </property>\n",
    "\n",
    "<property>\n",
    "      <name>yarn.app.mapreduce.am.env</name>\n",
    "      <value>HADOOP_MAPRED_HOME=${HADOOP_HOME}</value>\n",
    "  </property>\n",
    "<property>\n",
    "      <name>mapreduce.map.env</name>\n",
    "      <value>HADOOP_MAPRED_HOME=${HADOOP_HOME}</value>\n",
    "  </property>\n",
    "<property>\n",
    "      <name>mapreduce.reduce.env</name>\n",
    "      <value>HADOOP_MAPRED_HOME=${HADOOP_HOME}</value>\n",
    "  </property>\n",
    "\n",
    "  <property>\n",
    "      <name>mapreduce.application.classpath</name>\n",
    "      <value>$HADOOP_MAPRED_HOME/share/hadoop/mapreduce/*:$HADOOP_MAPRED_HOME/share/hadoop/mapreduce/lib/*</value>\n",
    "  </property>\n",
    "</configuration>\n",
    "\n",
    "\n",
    "```"
   ]
  },
  {
   "cell_type": "code",
   "execution_count": null,
   "metadata": {},
   "outputs": [],
   "source": []
  }
 ],
 "metadata": {
  "kernelspec": {
   "display_name": "Python 3 (ipykernel)",
   "language": "python",
   "name": "python3"
  },
  "language_info": {
   "codemirror_mode": {
    "name": "ipython",
    "version": 3
   },
   "file_extension": ".py",
   "mimetype": "text/x-python",
   "name": "python",
   "nbconvert_exporter": "python",
   "pygments_lexer": "ipython3",
   "version": "3.8.10"
  }
 },
 "nbformat": 4,
 "nbformat_minor": 4
}
