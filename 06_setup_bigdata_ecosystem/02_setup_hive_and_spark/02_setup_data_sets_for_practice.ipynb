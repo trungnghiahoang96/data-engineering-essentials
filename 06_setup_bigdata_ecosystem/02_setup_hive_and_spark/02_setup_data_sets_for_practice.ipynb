{
 "cells": [
  {
   "cell_type": "markdown",
   "metadata": {},
   "source": [
    "## Setup Data Sets for Practice\n",
    "\n",
    "Let us setup datasets on the node where we want to setup single node Hadoop and Spark Cluster.\n",
    "* Download the data set from GitHub\n",
    "\n",
    "```shell\n",
    "git clone https://github.com/dgadiraju/retail_db.git\n",
    "```\n",
    "\n",
    "* Create **/data** folder and copy downloaded retail_db data set to /data folder.\n",
    "\n",
    "```shell\n",
    "sudo rm -rf /data/retail_db\n",
    "sudo mkdir -p /data/retail_db\n",
    "\n",
    "sudo cp -rf retail_db/departments /data/retail_db\n",
    "sudo cp -rf retail_db/categories /data/retail_db\n",
    "sudo cp -rf retail_db/products /data/retail_db\n",
    "sudo cp -rf retail_db/orders /data/retail_db\n",
    "sudo cp -rf retail_db/order_items /data/retail_db\n",
    "sudo cp -rf retail_db/customers /data/retail_db\n",
    "```\n",
    "\n",
    "* Create HDFS directory by name **/public** and copy retail_db from local /data folder to HDFS /public folder.\n",
    "\n",
    "```shell\n",
    "hdfs dfs -mkdir -p /public\n",
    "hdfs dfs -put /data/retail_db /public\n",
    "hdfs dfs -ls /public/retail_db/orders\n",
    "hdfs dfs -find /public/retail_db\n",
    "```"
   ]
  },
  {
   "cell_type": "markdown",
   "metadata": {},
   "source": [
    "**********************************************************************************************************\n",
    "**my practice**"
   ]
  },
  {
   "cell_type": "markdown",
   "metadata": {},
   "source": [
    "* exec in data-engineer-essentials folder\n",
    "```shell\n",
    "sudo cp -rf ./retail_db/departments ./data/retail_db\n",
    "sudo cp -rf ./retail_db/categories ./data/retail_db\n",
    "sudo cp -rf ./retail_db/products ./data/retail_db\n",
    "sudo cp -rf ./retail_db/orders ./data/retail_db\n",
    "sudo cp -rf ./retail_db/order_items ./data/retail_db\n",
    "sudo cp -rf ./retail_db/customers ./data/retail_db\n",
    "```\n"
   ]
  },
  {
   "cell_type": "code",
   "execution_count": 9,
   "metadata": {},
   "outputs": [],
   "source": [
    "!hdfs dfs -mkdir -p /public"
   ]
  },
  {
   "cell_type": "code",
   "execution_count": 1,
   "metadata": {},
   "outputs": [
    {
     "name": "stdout",
     "output_type": "stream",
     "text": [
      "Found 2 items\r\n",
      "drwxr-xr-x   - nghiaht7 supergroup          0 2021-08-20 22:07 /public\r\n",
      "drwxr-xr-x   - nghiaht7 supergroup          0 2021-08-20 21:54 /user\r\n"
     ]
    }
   ],
   "source": [
    "!hdfs dfs -ls / "
   ]
  },
  {
   "cell_type": "code",
   "execution_count": 2,
   "metadata": {},
   "outputs": [],
   "source": [
    "!hdfs dfs -put /home/nghiaht7/data-engineer/data-engineering-essentials/data/retail_db /public"
   ]
  },
  {
   "cell_type": "code",
   "execution_count": 12,
   "metadata": {},
   "outputs": [
    {
     "name": "stdout",
     "output_type": "stream",
     "text": [
      "Found 1 items\r\n",
      "-rw-r--r--   1 nghiaht7 supergroup    2999944 2021-08-18 14:50 /public/retail_db/orders/part-00000\r\n"
     ]
    }
   ],
   "source": [
    "!hdfs dfs -ls /public/retail_db/orders"
   ]
  },
  {
   "cell_type": "code",
   "execution_count": 3,
   "metadata": {},
   "outputs": [
    {
     "name": "stdout",
     "output_type": "stream",
     "text": [
      "/public/retail_db\n",
      "/public/retail_db/categories\n",
      "/public/retail_db/categories/part-00000\n",
      "/public/retail_db/customers\n",
      "/public/retail_db/customers/part-00000\n",
      "/public/retail_db/order_items\n",
      "/public/retail_db/order_items/part-00000\n",
      "/public/retail_db/orders\n",
      "/public/retail_db/orders/part-00000\n",
      "/public/retail_db/part-00000\n",
      "/public/retail_db/products\n",
      "/public/retail_db/products/part-00000\n"
     ]
    }
   ],
   "source": [
    "!hdfs dfs -find /public/retail_db"
   ]
  },
  {
   "cell_type": "code",
   "execution_count": 1,
   "metadata": {},
   "outputs": [
    {
     "name": "stdout",
     "output_type": "stream",
     "text": [
      "drwxr-xr-x   - nghiaht7 supergroup          0 2021-08-24 17:10 /public\r\n",
      "drwxr-xr-x   - nghiaht7 supergroup          0 2021-08-24 17:10 /public/retail_db\r\n",
      "drwxr-xr-x   - nghiaht7 supergroup          0 2021-08-24 17:10 /public/retail_db/categories\r\n",
      "-rw-r--r--   1 nghiaht7 supergroup       1029 2021-08-24 17:10 /public/retail_db/categories/part-00000\r\n",
      "drwxr-xr-x   - nghiaht7 supergroup          0 2021-08-24 17:10 /public/retail_db/customers\r\n",
      "-rw-r--r--   1 nghiaht7 supergroup     953719 2021-08-24 17:10 /public/retail_db/customers/part-00000\r\n",
      "drwxr-xr-x   - nghiaht7 supergroup          0 2021-08-24 17:10 /public/retail_db/order_items\r\n",
      "-rw-r--r--   1 nghiaht7 supergroup    5408880 2021-08-24 17:10 /public/retail_db/order_items/part-00000\r\n",
      "drwxr-xr-x   - nghiaht7 supergroup          0 2021-08-24 17:10 /public/retail_db/orders\r\n",
      "-rw-r--r--   1 nghiaht7 supergroup    2999944 2021-08-24 17:10 /public/retail_db/orders/part-00000\r\n",
      "-rw-r--r--   1 nghiaht7 supergroup         60 2021-08-24 17:10 /public/retail_db/part-00000\r\n",
      "drwxr-xr-x   - nghiaht7 supergroup          0 2021-08-24 17:10 /public/retail_db/products\r\n",
      "-rw-r--r--   1 nghiaht7 supergroup     174155 2021-08-24 17:10 /public/retail_db/products/part-00000\r\n",
      "drwxr-xr-x   - nghiaht7 supergroup          0 2021-08-24 17:06 /user\r\n",
      "drwxr-xr-x   - nghiaht7 supergroup          0 2021-08-24 17:06 /user/nghiaht7\r\n"
     ]
    }
   ],
   "source": [
    "#list all files in hdfs\n",
    "\n",
    "!hdfs dfs -ls -R / "
   ]
  },
  {
   "cell_type": "code",
   "execution_count": null,
   "metadata": {},
   "outputs": [],
   "source": []
  }
 ],
 "metadata": {
  "kernelspec": {
   "display_name": "Python 3 (ipykernel)",
   "language": "python",
   "name": "python3"
  },
  "language_info": {
   "codemirror_mode": {
    "name": "ipython",
    "version": 3
   },
   "file_extension": ".py",
   "mimetype": "text/x-python",
   "name": "python",
   "nbconvert_exporter": "python",
   "pygments_lexer": "ipython3",
   "version": "3.8.10"
  }
 },
 "nbformat": 4,
 "nbformat_minor": 4
}
