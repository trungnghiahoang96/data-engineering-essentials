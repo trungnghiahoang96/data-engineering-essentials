{
 "cells": [
  {
   "cell_type": "code",
   "execution_count": null,
   "metadata": {},
   "outputs": [],
   "source": []
  },
  {
   "cell_type": "markdown",
   "metadata": {},
   "source": [
    "## Launch and Validate Hive\n",
    "\n",
    "Let us validate hive by launching Hive CLI and then by running some valid Hive Commands.\n",
    "\n",
    "* Launch Hive CLI\n",
    "* Create a database and a table\n",
    "* Insert data into the table\n",
    "* Query data from the table\n",
    "\n",
    "```sql\n",
    "CREATE DATABASE retail_db;\n",
    "USE retail_db;\n",
    "\n",
    "CREATE TABLE orders (\n",
    "    order_id INT,\n",
    "    order_date STRING,\n",
    "    order_customer_id INT,\n",
    "    order_status STRING\n",
    ") ROW FORMAT DELIMITED FIELDS TERMINATED BY ',';\n",
    "\n",
    "# LOAD DATA LOCAL INPATH '/data/retail_db/orders' INTO TABLE orders;\n",
    "\n",
    "LOAD DATA LOCAL INPATH '/home/nghiaht7/data-engineer/data-engineering-essentials/data/retail_db/orders' INTO TABLE orders;\n",
    "\n",
    "\n",
    "SELECT * FROM orders LIMIT 10;\n",
    "\n",
    "SELECT count(1) FROM orders;\n",
    "\n",
    "exit;\n",
    "```"
   ]
  },
  {
   "cell_type": "code",
   "execution_count": null,
   "metadata": {},
   "outputs": [
    {
     "name": "stdout",
     "output_type": "stream",
     "text": [
      "SLF4J: Class path contains multiple SLF4J bindings.\n",
      "SLF4J: Found binding in [jar:file:/opt/apache-hive-3.1.2-bin/lib/log4j-slf4j-impl-2.10.0.jar!/org/slf4j/impl/StaticLoggerBinder.class]\n",
      "SLF4J: Found binding in [jar:file:/home/nghiaht7/.sdkman/candidates/hadoop/3.3.0/share/hadoop/common/lib/slf4j-log4j12-1.7.25.jar!/org/slf4j/impl/StaticLoggerBinder.class]\n",
      "SLF4J: See http://www.slf4j.org/codes.html#multiple_bindings for an explanation.\n",
      "SLF4J: Actual binding is of type [org.apache.logging.slf4j.Log4jLoggerFactory]\n",
      "Hive Session ID = 4e71e7b7-a26b-4805-82cd-97c43f94bb3a\n",
      "\n",
      "Logging initialized using configuration in jar:file:/opt/apache-hive-3.1.2-bin/lib/hive-common-3.1.2.jar!/hive-log4j2.properties Async: true\n",
      "Hive Session ID = 7600129f-c4b9-4985-aede-9f32df138b4d\n",
      "Hive-on-MR is deprecated in Hive 2 and may not be available in the future versions. Consider using a different execution engine (i.e. spark, tez) or using Hive 1.X releases.\n",
      "hive> "
     ]
    }
   ],
   "source": [
    "!/opt/hive/bin/hive"
   ]
  },
  {
   "cell_type": "code",
   "execution_count": null,
   "metadata": {},
   "outputs": [],
   "source": [
    "\n"
   ]
  },
  {
   "cell_type": "code",
   "execution_count": null,
   "metadata": {},
   "outputs": [],
   "source": []
  }
 ],
 "metadata": {
  "kernelspec": {
   "display_name": "Python 3 (ipykernel)",
   "language": "python",
   "name": "python3"
  },
  "language_info": {
   "codemirror_mode": {
    "name": "ipython",
    "version": 3
   },
   "file_extension": ".py",
   "mimetype": "text/x-python",
   "name": "python",
   "nbconvert_exporter": "python",
   "pygments_lexer": "ipython3",
   "version": "3.8.10"
  }
 },
 "nbformat": 4,
 "nbformat_minor": 4
}
