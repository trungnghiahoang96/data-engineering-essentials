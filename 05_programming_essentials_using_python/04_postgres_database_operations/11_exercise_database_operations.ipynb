{
 "cells": [
  {
   "cell_type": "markdown",
   "metadata": {},
   "source": [
    "## Exercise - Database Operations\n",
    "\n",
    "Let's create a table and perform database operations using direct SQL."
   ]
  },
  {
   "cell_type": "markdown",
   "metadata": {},
   "source": [
    "* Create table - **courses**\n",
    "  * course_id - sequence generated integer and primary key\n",
    "  * course_name - which holds alpha numeric or string values up to 60 characters\n",
    "  * course_author - which holds the name of the author up to 40 characters\n",
    "  * course_status - which holds one of these values (published, draft, inactive). Make sure to enforce to store one of these 3 values as part of course_status.\n",
    "  * course_published_dt - which holds date type value. \n",
    "* Insert data into courses using the data provided. Make sure id is system generated.\n",
    "\n",
    "|Course Name                      |Course Author         |Course Status|Course Published Date|\n",
    "|---------------------------------|----------------------|-------------|---------------------|\n",
    "|Programming using Python         |Bob Dillon            |published    |2020-09-30           |\n",
    "|Data Engineering using Python    |Bob Dillon            |published    |2020-07-15           |\n",
    "|Data Engineering using Scala     |Elvis Presley         |draft        |                     |\n",
    "|Programming using Scala          |Elvis Presley         |published    |2020-05-12           |\n",
    "|Programming using Java           |Mike Jack             |inactive     |2020-08-10           |\n",
    "|Web Applications - Python Flask  |Bob Dillon            |inactive     |2020-07-20           |\n",
    "|Web Applications - Java Spring   |Mike Jack             |draft        |                     |\n",
    "|Pipeline Orchestration - Python  |Bob Dillon            |draft        |                     |\n",
    "|Streaming Pipelines - Python     |Bob Dillon            |published    |2020-10-05           |\n",
    "|Web Applications - Scala Play    |Elvis Presley         |inactive     |2020-09-30           |\n",
    "|Web Applications - Python Django |Bob Dillon            |published    |2020-06-23           |\n",
    "|Server Automation - Ansible      |Uncle Sam             |published    |2020-07-05           |\n",
    "\n",
    "* Update the status of all the **draft courses** related to Python and Scala to **published** along with the **course_published_dt using system date**. \n",
    "* Delete all the courses which are neither in draft mode nor published.\n",
    "* Get count of all published courses by author and make sure output is sorted in descending order by count.\n",
    "\n",
    "|Course Author   |Course Count|\n",
    "|----------------|------------|\n",
    "|Bob Dillon      |5           |\n",
    "|Elvis Presley   |2           |\n",
    "|Mike Jack       |1           |\n",
    "|Uncle Sam       |1           |"
   ]
  }
 ],
 "metadata": {
  "kernelspec": {
   "display_name": "Python 3 (ipykernel)",
   "language": "python",
   "name": "python3"
  },
  "language_info": {
   "codemirror_mode": {
    "name": "ipython",
    "version": 3
   },
   "file_extension": ".py",
   "mimetype": "text/x-python",
   "name": "python",
   "nbconvert_exporter": "python",
   "pygments_lexer": "ipython3",
   "version": "3.8.10"
  }
 },
 "nbformat": 4,
 "nbformat_minor": 4
}
