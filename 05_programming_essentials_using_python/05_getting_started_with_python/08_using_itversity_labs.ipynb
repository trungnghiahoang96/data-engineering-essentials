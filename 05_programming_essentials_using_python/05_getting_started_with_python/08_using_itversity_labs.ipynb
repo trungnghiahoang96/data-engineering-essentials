{
 "cells": [
  {
   "cell_type": "markdown",
   "metadata": {},
   "source": [
    "## Using ITVersity Labs\n",
    "\n",
    "At ITVersity, we are thriving to provide integrated lab to practice Python in tandem with other key technologies for becoming professional in application development or data engineering."
   ]
  },
  {
   "cell_type": "markdown",
   "metadata": {},
   "source": [
    "* It is Jupyter based environment, each user will get his/her own Jupyter Lab server.\n",
    "* We will provide required data sets for you.\n",
    "* There will be pre-created databases which can be leveraged for database programming.\n",
    "* All the key libraries such as Pandas are pre-installed."
   ]
  },
  {
   "cell_type": "code",
   "execution_count": null,
   "metadata": {},
   "outputs": [],
   "source": []
  }
 ],
 "metadata": {
  "kernelspec": {
   "display_name": "Python 3 (ipykernel)",
   "language": "python",
   "name": "python3"
  },
  "language_info": {
   "codemirror_mode": {
    "name": "ipython",
    "version": 3
   },
   "file_extension": ".py",
   "mimetype": "text/x-python",
   "name": "python",
   "nbconvert_exporter": "python",
   "pygments_lexer": "ipython3",
   "version": "3.8.10"
  }
 },
 "nbformat": 4,
 "nbformat_minor": 4
}
