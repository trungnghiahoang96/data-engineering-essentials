{
 "cells": [
  {
   "cell_type": "markdown",
   "metadata": {},
   "source": [
    "## Running OS Commands\n",
    "\n",
    "Let us understand how to run OS commands using Python using libraries such as `os` and `subprocess`."
   ]
  },
  {
   "cell_type": "markdown",
   "metadata": {},
   "source": [
    "* Python provides several libraries which can be used to run OS commands. `os` and `subprocess` are most popular ones.\n",
    "* We can import the libraries such as `os` and `subprocess` to start using them.\n",
    "* There are bunch of commands to create directories, change ownership, change permission, run general system commands etc.\n",
    "* `os` library is extensively used to read environment variables at run time of the application. It is used to pass keys and credentials to work with databases, external applications etc.\n",
    "* Typically keys and credentials should not be part of the source code.\n",
    "* `subprocess` can be used to run the commands and also to process the output."
   ]
  },
  {
   "cell_type": "code",
   "execution_count": 1,
   "metadata": {
    "collapsed": false,
    "jupyter": {
     "outputs_hidden": false
    },
    "pycharm": {
     "name": "#%%\n"
    }
   },
   "outputs": [],
   "source": [
    "import os"
   ]
  },
  {
   "cell_type": "markdown",
   "metadata": {},
   "source": [
    "* Get current working directory."
   ]
  },
  {
   "cell_type": "code",
   "execution_count": 2,
   "metadata": {
    "collapsed": false,
    "jupyter": {
     "outputs_hidden": false
    },
    "pycharm": {
     "name": "#%%\n"
    }
   },
   "outputs": [
    {
     "data": {
      "text/plain": [
       "'/home/nghiaht7/data-engineer/data-engineering-essentials/05_programming_essentials_using_python/06_basic_programming_constructs'"
      ]
     },
     "execution_count": 2,
     "metadata": {},
     "output_type": "execute_result"
    }
   ],
   "source": [
    "os.getcwd()"
   ]
  },
  {
   "cell_type": "markdown",
   "metadata": {},
   "source": [
    "* Read environment variables"
   ]
  },
  {
   "cell_type": "code",
   "execution_count": 3,
   "metadata": {
    "collapsed": false,
    "jupyter": {
     "outputs_hidden": false
    },
    "pycharm": {
     "name": "#%%\n"
    }
   },
   "outputs": [
    {
     "data": {
      "text/plain": [
       "'/home/nghiaht7/data-engineer/.venv/bin:/home/nghiaht7/.poetry/bin:/home/nghiaht7/.pyenv/shims:/home/nghiaht7/.pyenv/bin:/home/nghiaht7/.pyenv/versions/3.8.10/bin:/home/nghiaht7/.pyenv/libexec:/home/nghiaht7/.pyenv/plugins/python-build/bin:/home/nghiaht7/.pyenv/plugins/pyenv-virtualenv/bin:/home/nghiaht7/.pyenv/plugins/pyenv-update/bin:/home/nghiaht7/.pyenv/plugins/pyenv-installer/bin:/home/nghiaht7/.pyenv/plugins/pyenv-doctor/bin:/home/nghiaht7/.pyenv/plugins/python-build/bin:/home/nghiaht7/.pyenv/plugins/pyenv-virtualenv/bin:/home/nghiaht7/.pyenv/plugins/pyenv-update/bin:/home/nghiaht7/.pyenv/plugins/pyenv-installer/bin:/home/nghiaht7/.pyenv/plugins/pyenv-doctor/bin:/home/nghiaht7/.poetry/bin:/home/nghiaht7/.sdkman/candidates/spark/current/bin:/home/nghiaht7/.sdkman/candidates/scala/current/bin:/home/nghiaht7/.sdkman/candidates/sbt/current/bin:/home/nghiaht7/.sdkman/candidates/java/current/bin:/home/nghiaht7/.sdkman/candidates/hadoop/current/bin:/home/nghiaht7/.pyenv/shims:/home/nghiaht7/.pyenv/bin:/home/nghiaht7/.poetry/bin:/usr/local/sbin:/usr/local/bin:/usr/sbin:/usr/bin:/sbin:/bin:/usr/games:/usr/local/games:/snap/bin'"
      ]
     },
     "execution_count": 3,
     "metadata": {},
     "output_type": "execute_result"
    }
   ],
   "source": [
    "os.environ.get('PATH')"
   ]
  },
  {
   "cell_type": "code",
   "execution_count": 4,
   "metadata": {
    "collapsed": false,
    "jupyter": {
     "outputs_hidden": false
    },
    "pycharm": {
     "name": "#%%\n"
    }
   },
   "outputs": [
    {
     "data": {
      "text/plain": [
       "'nghiaht7'"
      ]
     },
     "execution_count": 4,
     "metadata": {},
     "output_type": "execute_result"
    }
   ],
   "source": [
    "os.environ.get('USER')"
   ]
  },
  {
   "cell_type": "code",
   "execution_count": 5,
   "metadata": {
    "collapsed": false,
    "jupyter": {
     "outputs_hidden": false
    },
    "pycharm": {
     "name": "#%%\n"
    }
   },
   "outputs": [
    {
     "data": {
      "text/plain": [
       "'/home/nghiaht7'"
      ]
     },
     "execution_count": 5,
     "metadata": {},
     "output_type": "execute_result"
    }
   ],
   "source": [
    "os.environ.get('HOME')"
   ]
  },
  {
   "cell_type": "code",
   "execution_count": 6,
   "metadata": {},
   "outputs": [
    {
     "name": "stdout",
     "output_type": "stream",
     "text": [
      "SDKMAN_VERSION=5.12.2\n",
      "POETRY_ACTIVE=1\n",
      "LANGUAGE=en_US:en\n",
      "USER=nghiaht7\n",
      "LC_TIME=vi_VN\n",
      "SBT_HOME=/home/nghiaht7/.sdkman/candidates/sbt/current\n",
      "MPLBACKEND=module://matplotlib_inline.backend_inline\n",
      "SSH_AGENT_PID=4215\n",
      "XDG_SESSION_TYPE=x11\n",
      "SHLVL=2\n",
      "LESS=-R\n",
      "HOME=/home/nghiaht7\n",
      "OLDPWD=/home/nghiaht7/data-engineer\n",
      "DESKTOP_SESSION=ubuntu\n",
      "LSCOLORS=Gxfxcxdxbxegedabagacad\n",
      "ZSH=/home/nghiaht7/.oh-my-zsh\n",
      "GNOME_SHELL_SESSION_MODE=ubuntu\n",
      "GTK_MODULES=gail:atk-bridge\n",
      "SCALA_HOME=/home/nghiaht7/.sdkman/candidates/scala/current\n",
      "PAGER=cat\n",
      "}}${_p9k__e::=${${_p9k__1ldir+00}:-${${(%):-$_p9k__c%1(l.1.0)}[-1]}1}}}+}${${_p9k__e:#00}:+${${_p9k_t[$_p9k__n]/<_p9k__ss>/$_p9k__ss}/<_p9k__s>/$_p9k__s}${_p9k__v}${${(M)_p9k__e:#11}:+ }${_p9k__c}%b%K{004\\}%F{254\\} ${${:-${_p9k__s::=%F{004\\}}${_p9k__ss::=│}${_p9k__sss::=%F{004\\}}${_p9k__i::=2}${_p9k__bg::=004}}+}}${(e)_p9k__vcs}%b%k$_p9k__sss%b%k%f}}}+}${(e)_p9k_t[6]}${${_p9k__h::=0}+}${${_p9k__d::=$((_p9k__m-_p9k__h))}+}${_p9k__lprompt/\\%\\{d\\%\\}*\\%\\{d\\%\\}/${_p9k__1ldir-${:-\"%B%F{255}\"}${(Q)${:-\"\\\\~\"}}${:-\"%b%K{004}%F{254}\"}/${:-\"%B%F{255}\"}data-engineer${:-\"%b%K{004}%F{254}\"}}}${${_p9k__m::=$((_p9k__d+_p9k__h))}+}${${_p9k__g+_p9k__c//\n",
      "}:-${${${_p9k__m:#-*}:+${${_p9k__1g+${(pl.$((_p9k__m+1)).. .)}}:-${(pl.$((_p9k__m+1)).. .)}}$_p9k__rprompt${_p9k_t[$((1+!_p9k__ind))]}}:-\n",
      "}}${_p9k__e::=${${_p9k__2lprompt_char+00}:-${${(%):-$_p9k__c%1(l.1.0)}[-1]}0}}}+}${${_p9k__e:#00}:+${${_p9k_t[$_p9k__n]/<_p9k__ss>/$_p9k__ss}/<_p9k__s>/$_p9k__s}${_p9k__c}%b%k%F{076\\}${${:-${_p9k__s::=%F{\\}}${_p9k__ss::=│}${_p9k__sss::=%F{\\}}${_p9k__i::=4}${_p9k__bg::=}}+}}}%b%k$_p9k__sss%b%k%f${:-\" %b%k%f\"}}}${${COLUMNS::=$_p9k__clm}+}is?|vivli?)}\"}:+${${:-${P9K_CONTENT::=Ⅴ}${_p9k__n::=}${${${_p9k__bg:-0}:#NONE}:-${_p9k__n::=44}}${_p9k__n:=${${(M)${:-x}:#x($_p9k__bg|${_p9k__bg:-0})}:+46}}${_p9k__n:=47}${_p9k__c::=\"V\"}${_p9k__c::=${_p9k__c//p9k__c//\n",
      "LC_MONETARY=vi_VN\n",
      "MANAGERPID=4034\n",
      "P9K_TTY=old\n",
      "DBUS_STARTER_BUS_TYPE=session\n",
      "PYENV_DIR=/home/nghiaht7/data-engineer\n",
      "DBUS_SESSION_BUS_ADDRESS=unix:path=/run/user/1001/bus,guid=ea2f79a83197b31f9887bd7461161cce\n",
      "COLORTERM=truecolor\n",
      "MANDATORY_PATH=/usr/share/gconf/ubuntu.mandatory.path\n",
      "IM_CONFIG_PHASE=1\n",
      "LOGNAME=nghiaht7\n",
      "SDKMAN_CANDIDATES_API=https://api.sdkman.io/2\n",
      "JOURNAL_STREAM=9:47124\n",
      "_=/home/nghiaht7/data-engineer/.venv/bin/jupyter\n",
      "XDG_SESSION_CLASS=user\n",
      "DEFAULTS_PATH=/usr/share/gconf/ubuntu.default.path\n",
      "USERNAME=nghiaht7\n",
      "TERM=xterm-color\n",
      "GNOME_DESKTOP_SESSION_ID=this-is-deprecated\n",
      "WINDOWPATH=2\n",
      "PATH=/home/nghiaht7/data-engineer/.venv/bin:/home/nghiaht7/.poetry/bin:/home/nghiaht7/.pyenv/shims:/home/nghiaht7/.pyenv/bin:/home/nghiaht7/.pyenv/versions/3.8.10/bin:/home/nghiaht7/.pyenv/libexec:/home/nghiaht7/.pyenv/plugins/python-build/bin:/home/nghiaht7/.pyenv/plugins/pyenv-virtualenv/bin:/home/nghiaht7/.pyenv/plugins/pyenv-update/bin:/home/nghiaht7/.pyenv/plugins/pyenv-installer/bin:/home/nghiaht7/.pyenv/plugins/pyenv-doctor/bin:/home/nghiaht7/.pyenv/plugins/python-build/bin:/home/nghiaht7/.pyenv/plugins/pyenv-virtualenv/bin:/home/nghiaht7/.pyenv/plugins/pyenv-update/bin:/home/nghiaht7/.pyenv/plugins/pyenv-installer/bin:/home/nghiaht7/.pyenv/plugins/pyenv-doctor/bin:/home/nghiaht7/.poetry/bin:/home/nghiaht7/.sdkman/candidates/spark/current/bin:/home/nghiaht7/.sdkman/candidates/scala/current/bin:/home/nghiaht7/.sdkman/candidates/sbt/current/bin:/home/nghiaht7/.sdkman/candidates/java/current/bin:/home/nghiaht7/.sdkman/candidates/hadoop/current/bin:/home/nghiaht7/.pyenv/shims:/home/nghiaht7/.pyenv/bin:/home/nghiaht7/.poetry/bin:/usr/local/sbin:/usr/local/bin:/usr/sbin:/usr/bin:/sbin:/bin:/usr/games:/usr/local/games:/snap/bin\n",
      "SESSION_MANAGER=local/justdoit:@/tmp/.ICE-unix/4258,unix/justdoit:/tmp/.ICE-unix/4258\n",
      "PYENV_HOOK_PATH=/home/nghiaht7/.pyenv/pyenv.d:/usr/local/etc/pyenv.d:/etc/pyenv.d:/usr/lib/pyenv/hooks:/home/nghiaht7/.pyenv/plugins/pyenv-virtualenv/etc/pyenv.d:/home/nghiaht7/.pyenv/plugins/pyenv-which-ext/etc/pyenv.d\n",
      "SDKMAN_CANDIDATES_DIR=/home/nghiaht7/.sdkman/candidates\n",
      "INVOCATION_ID=5596898043944377898beeb18721c7ed\n",
      "PAPERSIZE=a4\n",
      "XDG_MENU_PREFIX=gnome-\n",
      "LC_ADDRESS=vi_VN\n",
      "GNOME_TERMINAL_SCREEN=/org/gnome/Terminal/screen/f79e43f0_0780_428f_9e9b_6c9a2d1a8221\n",
      "XDG_RUNTIME_DIR=/run/user/1001\n",
      "DISPLAY=:0\n",
      "LANG=en_US.UTF-8\n",
      "XDG_CURRENT_DESKTOP=ubuntu:GNOME\n",
      "LC_TELEPHONE=vi_VN\n",
      "XMODIFIERS=@im=ibus\n",
      "XDG_SESSION_DESKTOP=ubuntu\n",
      "XAUTHORITY=/run/user/1001/gdm/Xauthority\n",
      "LS_COLORS=rs=0:di=01;34:ln=01;36:mh=00:pi=40;33:so=01;35:do=01;35:bd=40;33;01:cd=40;33;01:or=40;31;01:mi=00:su=37;41:sg=30;43:ca=30;41:tw=30;42:ow=34;42:st=37;44:ex=01;32:*.tar=01;31:*.tgz=01;31:*.arc=01;31:*.arj=01;31:*.taz=01;31:*.lha=01;31:*.lz4=01;31:*.lzh=01;31:*.lzma=01;31:*.tlz=01;31:*.txz=01;31:*.tzo=01;31:*.t7z=01;31:*.zip=01;31:*.z=01;31:*.dz=01;31:*.gz=01;31:*.lrz=01;31:*.lz=01;31:*.lzo=01;31:*.xz=01;31:*.zst=01;31:*.tzst=01;31:*.bz2=01;31:*.bz=01;31:*.tbz=01;31:*.tbz2=01;31:*.tz=01;31:*.deb=01;31:*.rpm=01;31:*.jar=01;31:*.war=01;31:*.ear=01;31:*.sar=01;31:*.rar=01;31:*.alz=01;31:*.ace=01;31:*.zoo=01;31:*.cpio=01;31:*.7z=01;31:*.rz=01;31:*.cab=01;31:*.wim=01;31:*.swm=01;31:*.dwm=01;31:*.esd=01;31:*.jpg=01;35:*.jpeg=01;35:*.mjpg=01;35:*.mjpeg=01;35:*.gif=01;35:*.bmp=01;35:*.pbm=01;35:*.pgm=01;35:*.ppm=01;35:*.tga=01;35:*.xbm=01;35:*.xpm=01;35:*.tif=01;35:*.tiff=01;35:*.png=01;35:*.svg=01;35:*.svgz=01;35:*.mng=01;35:*.pcx=01;35:*.mov=01;35:*.mpg=01;35:*.mpeg=01;35:*.m2v=01;35:*.mkv=01;35:*.webm=01;35:*.ogm=01;35:*.mp4=01;35:*.m4v=01;35:*.mp4v=01;35:*.vob=01;35:*.qt=01;35:*.nuv=01;35:*.wmv=01;35:*.asf=01;35:*.rm=01;35:*.rmvb=01;35:*.flc=01;35:*.avi=01;35:*.fli=01;35:*.flv=01;35:*.gl=01;35:*.dl=01;35:*.xcf=01;35:*.xwd=01;35:*.yuv=01;35:*.cgm=01;35:*.emf=01;35:*.ogv=01;35:*.ogx=01;35:*.aac=00;36:*.au=00;36:*.flac=00;36:*.m4a=00;36:*.mid=00;36:*.midi=00;36:*.mka=00;36:*.mp3=00;36:*.mpc=00;36:*.ogg=00;36:*.ra=00;36:*.wav=00;36:*.oga=00;36:*.opus=00;36:*.spx=00;36:*.xspf=00;36:\n",
      "GNOME_TERMINAL_SERVICE=:1.85\n",
      "SDKMAN_DIR=/home/nghiaht7/.sdkman\n",
      "SDKMAN_PLATFORM=linuxx64\n",
      "PLAT=linux-x86_64\n",
      "SSH_AUTH_SOCK=/run/user/1001/keyring/ssh\n",
      "PYENV_VERSION=3.8.10\n",
      "SHELL=/usr/bin/zsh\n",
      "LC_NAME=vi_VN\n",
      "QT_ACCESSIBILITY=1\n",
      "GDMSESSION=ubuntu\n",
      "LC_MEASUREMENT=vi_VN\n",
      "GPG_AGENT_INFO=/run/user/1001/gnupg/S.gpg-agent:0:1\n",
      "LC_IDENTIFICATION=vi_VN\n",
      "P9K_SSH=0\n",
      "QT_IM_MODULE=ibus\n",
      "VIRTUAL_ENV=/home/nghiaht7/data-engineer/.venv\n",
      "GIT_PAGER=cat\n",
      "JAVA_HOME=/home/nghiaht7/.sdkman/candidates/java/current\n",
      "PWD=/home/nghiaht7/data-engineer/data-engineering-essentials/05_programming_essentials_using_python/06_basic_programming_constructs\n",
      "CLICOLOR=1\n",
      "XDG_CONFIG_DIRS=/etc/xdg/xdg-ubuntu:/etc/xdg\n",
      "_P9K_TTY=/dev/pts/2\n",
      "DBUS_STARTER_ADDRESS=unix:path=/run/user/1001/bus,guid=ea2f79a83197b31f9887bd7461161cce\n",
      "PYENV_ROOT=/home/nghiaht7/.pyenv\n",
      "XDG_DATA_DIRS=/usr/share/ubuntu:/usr/local/share/:/usr/share/:/var/lib/snapd/desktop\n",
      "JPY_PARENT_PID=150723\n",
      "LC_NUMERIC=vi_VN\n",
      "LC_PAPER=vi_VN\n",
      "VTE_VERSION=6003\n",
      "HADOOP_HOME=/home/nghiaht7/.sdkman/candidates/hadoop/current\n",
      "SPARK_HOME=/home/nghiaht7/.sdkman/candidates/spark/current\n"
     ]
    }
   ],
   "source": [
    "%%sh\n",
    "\n",
    "env"
   ]
  },
  {
   "cell_type": "code",
   "execution_count": 7,
   "metadata": {},
   "outputs": [
    {
     "data": {
      "text/plain": [
       "\u001b[0;31mSignature:\u001b[0m \u001b[0mos\u001b[0m\u001b[0;34m.\u001b[0m\u001b[0menviron\u001b[0m\u001b[0;34m.\u001b[0m\u001b[0mget\u001b[0m\u001b[0;34m(\u001b[0m\u001b[0mkey\u001b[0m\u001b[0;34m,\u001b[0m \u001b[0mdefault\u001b[0m\u001b[0;34m=\u001b[0m\u001b[0;32mNone\u001b[0m\u001b[0;34m)\u001b[0m\u001b[0;34m\u001b[0m\u001b[0;34m\u001b[0m\u001b[0m\n",
       "\u001b[0;31mDocstring:\u001b[0m D.get(k[,d]) -> D[k] if k in D, else d.  d defaults to None.\n",
       "\u001b[0;31mFile:\u001b[0m      ~/.pyenv/versions/3.8.10/lib/python3.8/_collections_abc.py\n",
       "\u001b[0;31mType:\u001b[0m      method\n"
      ]
     },
     "metadata": {},
     "output_type": "display_data"
    }
   ],
   "source": [
    "os.environ.get?"
   ]
  },
  {
   "cell_type": "code",
   "execution_count": 8,
   "metadata": {},
   "outputs": [
    {
     "data": {
      "text/plain": [
       "'Passwords should be confidential'"
      ]
     },
     "execution_count": 8,
     "metadata": {},
     "output_type": "execute_result"
    }
   ],
   "source": [
    "os.environ.get('PASSWORD', 'Passwords should be confidential')"
   ]
  },
  {
   "cell_type": "markdown",
   "metadata": {},
   "source": [
    "* Run `ls -ltr` command to get list of files in the current directory."
   ]
  },
  {
   "cell_type": "code",
   "execution_count": 9,
   "metadata": {},
   "outputs": [],
   "source": [
    "import subprocess"
   ]
  },
  {
   "cell_type": "code",
   "execution_count": 10,
   "metadata": {},
   "outputs": [
    {
     "name": "stdout",
     "output_type": "stream",
     "text": [
      "total 64\n",
      "-rw-rw-r-- 1 nghiaht7 nghiaht7  9929 Thg 8  12 20:35 08_all_about_for_loops.ipynb\n",
      "-rw-rw-r-- 1 nghiaht7 nghiaht7  6339 Thg 8  12 20:35 07_conditionals.ipynb\n",
      "-rw-rw-r-- 1 nghiaht7 nghiaht7  8006 Thg 8  12 20:35 05_operators_in_python.ipynb\n",
      "-rw-rw-r-- 1 nghiaht7 nghiaht7  1081 Thg 8  12 20:35 04_data_types_commonly_used.ipynb\n",
      "-rw-rw-r-- 1 nghiaht7 nghiaht7  2990 Thg 8  12 20:35 03_variables_and_objects.ipynb\n",
      "-rw-rw-r-- 1 nghiaht7 nghiaht7  1462 Thg 8  12 20:35 02_getting_help.ipynb\n",
      "-rw-rw-r-- 1 nghiaht7 nghiaht7 22947 Thg 8  13 16:31 09_running_os_commands.ipynb\n"
     ]
    }
   ],
   "source": [
    "%%sh\n",
    "\n",
    "ls -ltr"
   ]
  },
  {
   "cell_type": "code",
   "execution_count": 11,
   "metadata": {},
   "outputs": [
    {
     "name": "stdout",
     "output_type": "stream",
     "text": [
      "total 64\n",
      "-rw-rw-r-- 1 nghiaht7 nghiaht7  9929 Thg 8  12 20:35 08_all_about_for_loops.ipynb\n",
      "-rw-rw-r-- 1 nghiaht7 nghiaht7  6339 Thg 8  12 20:35 07_conditionals.ipynb\n",
      "-rw-rw-r-- 1 nghiaht7 nghiaht7  8006 Thg 8  12 20:35 05_operators_in_python.ipynb\n",
      "-rw-rw-r-- 1 nghiaht7 nghiaht7  1081 Thg 8  12 20:35 04_data_types_commonly_used.ipynb\n",
      "-rw-rw-r-- 1 nghiaht7 nghiaht7  2990 Thg 8  12 20:35 03_variables_and_objects.ipynb\n",
      "-rw-rw-r-- 1 nghiaht7 nghiaht7  1462 Thg 8  12 20:35 02_getting_help.ipynb\n",
      "-rw-rw-r-- 1 nghiaht7 nghiaht7 22947 Thg 8  13 16:31 09_running_os_commands.ipynb\n"
     ]
    }
   ],
   "source": [
    "output = subprocess.check_call(['ls', '-ltr'])"
   ]
  },
  {
   "cell_type": "code",
   "execution_count": 12,
   "metadata": {},
   "outputs": [
    {
     "data": {
      "text/plain": [
       "0"
      ]
     },
     "execution_count": 12,
     "metadata": {},
     "output_type": "execute_result"
    }
   ],
   "source": [
    "output"
   ]
  },
  {
   "cell_type": "code",
   "execution_count": 13,
   "metadata": {},
   "outputs": [],
   "source": [
    "output = subprocess.check_output(['ls', '-ltr'])"
   ]
  },
  {
   "cell_type": "code",
   "execution_count": 14,
   "metadata": {},
   "outputs": [
    {
     "data": {
      "text/plain": [
       "b'total 64\\n-rw-rw-r-- 1 nghiaht7 nghiaht7  9929 Thg 8  12 20:35 08_all_about_for_loops.ipynb\\n-rw-rw-r-- 1 nghiaht7 nghiaht7  6339 Thg 8  12 20:35 07_conditionals.ipynb\\n-rw-rw-r-- 1 nghiaht7 nghiaht7  8006 Thg 8  12 20:35 05_operators_in_python.ipynb\\n-rw-rw-r-- 1 nghiaht7 nghiaht7  1081 Thg 8  12 20:35 04_data_types_commonly_used.ipynb\\n-rw-rw-r-- 1 nghiaht7 nghiaht7  2990 Thg 8  12 20:35 03_variables_and_objects.ipynb\\n-rw-rw-r-- 1 nghiaht7 nghiaht7  1462 Thg 8  12 20:35 02_getting_help.ipynb\\n-rw-rw-r-- 1 nghiaht7 nghiaht7 22947 Thg 8  13 16:31 09_running_os_commands.ipynb\\n'"
      ]
     },
     "execution_count": 14,
     "metadata": {},
     "output_type": "execute_result"
    }
   ],
   "source": [
    "output # output is of type binary"
   ]
  },
  {
   "cell_type": "code",
   "execution_count": 15,
   "metadata": {},
   "outputs": [
    {
     "data": {
      "text/plain": [
       "bytes"
      ]
     },
     "execution_count": 15,
     "metadata": {},
     "output_type": "execute_result"
    }
   ],
   "source": [
    "type(output)"
   ]
  },
  {
   "cell_type": "code",
   "execution_count": 16,
   "metadata": {},
   "outputs": [
    {
     "data": {
      "text/plain": [
       "'total 64\\n-rw-rw-r-- 1 nghiaht7 nghiaht7  9929 Thg 8  12 20:35 08_all_about_for_loops.ipynb\\n-rw-rw-r-- 1 nghiaht7 nghiaht7  6339 Thg 8  12 20:35 07_conditionals.ipynb\\n-rw-rw-r-- 1 nghiaht7 nghiaht7  8006 Thg 8  12 20:35 05_operators_in_python.ipynb\\n-rw-rw-r-- 1 nghiaht7 nghiaht7  1081 Thg 8  12 20:35 04_data_types_commonly_used.ipynb\\n-rw-rw-r-- 1 nghiaht7 nghiaht7  2990 Thg 8  12 20:35 03_variables_and_objects.ipynb\\n-rw-rw-r-- 1 nghiaht7 nghiaht7  1462 Thg 8  12 20:35 02_getting_help.ipynb\\n-rw-rw-r-- 1 nghiaht7 nghiaht7 22947 Thg 8  13 16:31 09_running_os_commands.ipynb\\n'"
      ]
     },
     "execution_count": 16,
     "metadata": {},
     "output_type": "execute_result"
    }
   ],
   "source": [
    "output.decode('utf-8') # converts to string of type utf-8"
   ]
  },
  {
   "cell_type": "code",
   "execution_count": 17,
   "metadata": {},
   "outputs": [
    {
     "data": {
      "text/plain": [
       "str"
      ]
     },
     "execution_count": 17,
     "metadata": {},
     "output_type": "execute_result"
    }
   ],
   "source": [
    "type(output.decode('utf-8'))"
   ]
  },
  {
   "cell_type": "markdown",
   "metadata": {},
   "source": [
    "```{note}\n",
    "Let us convert string into list of strings. Once it is broken into list of strings we can process the data as per our requirements either by using Map Reduce libraries or Pandas based libraries.\n",
    "```"
   ]
  },
  {
   "cell_type": "code",
   "execution_count": 18,
   "metadata": {},
   "outputs": [
    {
     "data": {
      "text/plain": [
       "['total 64',\n",
       " '-rw-rw-r-- 1 nghiaht7 nghiaht7  9929 Thg 8  12 20:35 08_all_about_for_loops.ipynb',\n",
       " '-rw-rw-r-- 1 nghiaht7 nghiaht7  6339 Thg 8  12 20:35 07_conditionals.ipynb',\n",
       " '-rw-rw-r-- 1 nghiaht7 nghiaht7  8006 Thg 8  12 20:35 05_operators_in_python.ipynb',\n",
       " '-rw-rw-r-- 1 nghiaht7 nghiaht7  1081 Thg 8  12 20:35 04_data_types_commonly_used.ipynb',\n",
       " '-rw-rw-r-- 1 nghiaht7 nghiaht7  2990 Thg 8  12 20:35 03_variables_and_objects.ipynb',\n",
       " '-rw-rw-r-- 1 nghiaht7 nghiaht7  1462 Thg 8  12 20:35 02_getting_help.ipynb',\n",
       " '-rw-rw-r-- 1 nghiaht7 nghiaht7 22947 Thg 8  13 16:31 09_running_os_commands.ipynb']"
      ]
     },
     "execution_count": 18,
     "metadata": {},
     "output_type": "execute_result"
    }
   ],
   "source": [
    "output.decode('utf-8').splitlines()"
   ]
  },
  {
   "cell_type": "code",
   "execution_count": 19,
   "metadata": {},
   "outputs": [
    {
     "data": {
      "text/plain": [
       "list"
      ]
     },
     "execution_count": 19,
     "metadata": {},
     "output_type": "execute_result"
    }
   ],
   "source": [
    "type(output.decode('utf-8').splitlines())"
   ]
  },
  {
   "cell_type": "code",
   "execution_count": 20,
   "metadata": {},
   "outputs": [
    {
     "name": "stdout",
     "output_type": "stream",
     "text": [
      "total 64\n",
      "-rw-rw-r-- 1 nghiaht7 nghiaht7  9929 Thg 8  12 20:35 08_all_about_for_loops.ipynb\n",
      "-rw-rw-r-- 1 nghiaht7 nghiaht7  6339 Thg 8  12 20:35 07_conditionals.ipynb\n",
      "-rw-rw-r-- 1 nghiaht7 nghiaht7  8006 Thg 8  12 20:35 05_operators_in_python.ipynb\n",
      "-rw-rw-r-- 1 nghiaht7 nghiaht7  1081 Thg 8  12 20:35 04_data_types_commonly_used.ipynb\n",
      "-rw-rw-r-- 1 nghiaht7 nghiaht7  2990 Thg 8  12 20:35 03_variables_and_objects.ipynb\n",
      "-rw-rw-r-- 1 nghiaht7 nghiaht7  1462 Thg 8  12 20:35 02_getting_help.ipynb\n",
      "-rw-rw-r-- 1 nghiaht7 nghiaht7 22947 Thg 8  13 16:31 09_running_os_commands.ipynb\n"
     ]
    }
   ],
   "source": [
    "# splitlines is the function available on string type\n",
    "# It converts string with line breaks into list of strings\n",
    "for rec in output.decode('utf-8').splitlines():\n",
    "    print(rec)"
   ]
  },
  {
   "cell_type": "code",
   "execution_count": null,
   "metadata": {},
   "outputs": [],
   "source": []
  }
 ],
 "metadata": {
  "kernelspec": {
   "display_name": "Python 3 (ipykernel)",
   "language": "python",
   "name": "python3"
  },
  "language_info": {
   "codemirror_mode": {
    "name": "ipython",
    "version": 3
   },
   "file_extension": ".py",
   "mimetype": "text/x-python",
   "name": "python",
   "nbconvert_exporter": "python",
   "pygments_lexer": "ipython3",
   "version": "3.8.10"
  }
 },
 "nbformat": 4,
 "nbformat_minor": 4
}
